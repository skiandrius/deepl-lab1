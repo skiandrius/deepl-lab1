{
  "nbformat": 4,
  "nbformat_minor": 0,
  "metadata": {
    "colab": {
      "provenance": []
    },
    "kernelspec": {
      "name": "python3",
      "display_name": "Python 3"
    },
    "language_info": {
      "name": "python"
    }
  },
  "cells": [
    {
      "cell_type": "code",
      "source": [
        "!pip install -q kaggle"
      ],
      "metadata": {
        "id": "JrH9pU2Di39z"
      },
      "execution_count": 1,
      "outputs": []
    },
    {
      "cell_type": "code",
      "source": [
        "from google.colab import files\n",
        "files.upload()"
      ],
      "metadata": {
        "colab": {
          "base_uri": "https://localhost:8080/",
          "height": 90
        },
        "id": "kxrBEsb7l3h_",
        "outputId": "1ad4b610-8cbc-495a-f5f9-f09782eabfe3"
      },
      "execution_count": 2,
      "outputs": [
        {
          "output_type": "display_data",
          "data": {
            "text/plain": [
              "<IPython.core.display.HTML object>"
            ],
            "text/html": [
              "\n",
              "     <input type=\"file\" id=\"files-feb5bd03-b7a9-4089-b54c-51e8ccd0922c\" name=\"files[]\" multiple disabled\n",
              "        style=\"border:none\" />\n",
              "     <output id=\"result-feb5bd03-b7a9-4089-b54c-51e8ccd0922c\">\n",
              "      Upload widget is only available when the cell has been executed in the\n",
              "      current browser session. Please rerun this cell to enable.\n",
              "      </output>\n",
              "      <script>// Copyright 2017 Google LLC\n",
              "//\n",
              "// Licensed under the Apache License, Version 2.0 (the \"License\");\n",
              "// you may not use this file except in compliance with the License.\n",
              "// You may obtain a copy of the License at\n",
              "//\n",
              "//      http://www.apache.org/licenses/LICENSE-2.0\n",
              "//\n",
              "// Unless required by applicable law or agreed to in writing, software\n",
              "// distributed under the License is distributed on an \"AS IS\" BASIS,\n",
              "// WITHOUT WARRANTIES OR CONDITIONS OF ANY KIND, either express or implied.\n",
              "// See the License for the specific language governing permissions and\n",
              "// limitations under the License.\n",
              "\n",
              "/**\n",
              " * @fileoverview Helpers for google.colab Python module.\n",
              " */\n",
              "(function(scope) {\n",
              "function span(text, styleAttributes = {}) {\n",
              "  const element = document.createElement('span');\n",
              "  element.textContent = text;\n",
              "  for (const key of Object.keys(styleAttributes)) {\n",
              "    element.style[key] = styleAttributes[key];\n",
              "  }\n",
              "  return element;\n",
              "}\n",
              "\n",
              "// Max number of bytes which will be uploaded at a time.\n",
              "const MAX_PAYLOAD_SIZE = 100 * 1024;\n",
              "\n",
              "function _uploadFiles(inputId, outputId) {\n",
              "  const steps = uploadFilesStep(inputId, outputId);\n",
              "  const outputElement = document.getElementById(outputId);\n",
              "  // Cache steps on the outputElement to make it available for the next call\n",
              "  // to uploadFilesContinue from Python.\n",
              "  outputElement.steps = steps;\n",
              "\n",
              "  return _uploadFilesContinue(outputId);\n",
              "}\n",
              "\n",
              "// This is roughly an async generator (not supported in the browser yet),\n",
              "// where there are multiple asynchronous steps and the Python side is going\n",
              "// to poll for completion of each step.\n",
              "// This uses a Promise to block the python side on completion of each step,\n",
              "// then passes the result of the previous step as the input to the next step.\n",
              "function _uploadFilesContinue(outputId) {\n",
              "  const outputElement = document.getElementById(outputId);\n",
              "  const steps = outputElement.steps;\n",
              "\n",
              "  const next = steps.next(outputElement.lastPromiseValue);\n",
              "  return Promise.resolve(next.value.promise).then((value) => {\n",
              "    // Cache the last promise value to make it available to the next\n",
              "    // step of the generator.\n",
              "    outputElement.lastPromiseValue = value;\n",
              "    return next.value.response;\n",
              "  });\n",
              "}\n",
              "\n",
              "/**\n",
              " * Generator function which is called between each async step of the upload\n",
              " * process.\n",
              " * @param {string} inputId Element ID of the input file picker element.\n",
              " * @param {string} outputId Element ID of the output display.\n",
              " * @return {!Iterable<!Object>} Iterable of next steps.\n",
              " */\n",
              "function* uploadFilesStep(inputId, outputId) {\n",
              "  const inputElement = document.getElementById(inputId);\n",
              "  inputElement.disabled = false;\n",
              "\n",
              "  const outputElement = document.getElementById(outputId);\n",
              "  outputElement.innerHTML = '';\n",
              "\n",
              "  const pickedPromise = new Promise((resolve) => {\n",
              "    inputElement.addEventListener('change', (e) => {\n",
              "      resolve(e.target.files);\n",
              "    });\n",
              "  });\n",
              "\n",
              "  const cancel = document.createElement('button');\n",
              "  inputElement.parentElement.appendChild(cancel);\n",
              "  cancel.textContent = 'Cancel upload';\n",
              "  const cancelPromise = new Promise((resolve) => {\n",
              "    cancel.onclick = () => {\n",
              "      resolve(null);\n",
              "    };\n",
              "  });\n",
              "\n",
              "  // Wait for the user to pick the files.\n",
              "  const files = yield {\n",
              "    promise: Promise.race([pickedPromise, cancelPromise]),\n",
              "    response: {\n",
              "      action: 'starting',\n",
              "    }\n",
              "  };\n",
              "\n",
              "  cancel.remove();\n",
              "\n",
              "  // Disable the input element since further picks are not allowed.\n",
              "  inputElement.disabled = true;\n",
              "\n",
              "  if (!files) {\n",
              "    return {\n",
              "      response: {\n",
              "        action: 'complete',\n",
              "      }\n",
              "    };\n",
              "  }\n",
              "\n",
              "  for (const file of files) {\n",
              "    const li = document.createElement('li');\n",
              "    li.append(span(file.name, {fontWeight: 'bold'}));\n",
              "    li.append(span(\n",
              "        `(${file.type || 'n/a'}) - ${file.size} bytes, ` +\n",
              "        `last modified: ${\n",
              "            file.lastModifiedDate ? file.lastModifiedDate.toLocaleDateString() :\n",
              "                                    'n/a'} - `));\n",
              "    const percent = span('0% done');\n",
              "    li.appendChild(percent);\n",
              "\n",
              "    outputElement.appendChild(li);\n",
              "\n",
              "    const fileDataPromise = new Promise((resolve) => {\n",
              "      const reader = new FileReader();\n",
              "      reader.onload = (e) => {\n",
              "        resolve(e.target.result);\n",
              "      };\n",
              "      reader.readAsArrayBuffer(file);\n",
              "    });\n",
              "    // Wait for the data to be ready.\n",
              "    let fileData = yield {\n",
              "      promise: fileDataPromise,\n",
              "      response: {\n",
              "        action: 'continue',\n",
              "      }\n",
              "    };\n",
              "\n",
              "    // Use a chunked sending to avoid message size limits. See b/62115660.\n",
              "    let position = 0;\n",
              "    do {\n",
              "      const length = Math.min(fileData.byteLength - position, MAX_PAYLOAD_SIZE);\n",
              "      const chunk = new Uint8Array(fileData, position, length);\n",
              "      position += length;\n",
              "\n",
              "      const base64 = btoa(String.fromCharCode.apply(null, chunk));\n",
              "      yield {\n",
              "        response: {\n",
              "          action: 'append',\n",
              "          file: file.name,\n",
              "          data: base64,\n",
              "        },\n",
              "      };\n",
              "\n",
              "      let percentDone = fileData.byteLength === 0 ?\n",
              "          100 :\n",
              "          Math.round((position / fileData.byteLength) * 100);\n",
              "      percent.textContent = `${percentDone}% done`;\n",
              "\n",
              "    } while (position < fileData.byteLength);\n",
              "  }\n",
              "\n",
              "  // All done.\n",
              "  yield {\n",
              "    response: {\n",
              "      action: 'complete',\n",
              "    }\n",
              "  };\n",
              "}\n",
              "\n",
              "scope.google = scope.google || {};\n",
              "scope.google.colab = scope.google.colab || {};\n",
              "scope.google.colab._files = {\n",
              "  _uploadFiles,\n",
              "  _uploadFilesContinue,\n",
              "};\n",
              "})(self);\n",
              "</script> "
            ]
          },
          "metadata": {}
        },
        {
          "output_type": "stream",
          "name": "stdout",
          "text": [
            "Saving kaggle.json to kaggle.json\n"
          ]
        },
        {
          "output_type": "execute_result",
          "data": {
            "text/plain": [
              "{'kaggle.json': b'{\"username\":\"zaytsevpavel1376\",\"key\":\"262da53e6f5a27cf57b511695d855fd4\"}'}"
            ]
          },
          "metadata": {},
          "execution_count": 2
        }
      ]
    },
    {
      "cell_type": "code",
      "source": [
        "! mkdir ~/.kaggle\n",
        "! cp kaggle.json ~/.kaggle/\n",
        "! chmod 600 ~/.kaggle/kaggle.json"
      ],
      "metadata": {
        "id": "HtHMYRaomJ2y"
      },
      "execution_count": 3,
      "outputs": []
    },
    {
      "cell_type": "code",
      "source": [
        "!kaggle datasets download -d arnabchaki/data-science-salaries-2023"
      ],
      "metadata": {
        "id": "_B-wx8EupP8e",
        "colab": {
          "base_uri": "https://localhost:8080/"
        },
        "outputId": "e19fb34b-ea19-4d1c-9e6d-2c8220ffddac"
      },
      "execution_count": 4,
      "outputs": [
        {
          "output_type": "stream",
          "name": "stdout",
          "text": [
            "Dataset URL: https://www.kaggle.com/datasets/arnabchaki/data-science-salaries-2023\n",
            "License(s): DbCL-1.0\n",
            "Downloading data-science-salaries-2023.zip to /content\n",
            "  0% 0.00/25.4k [00:00<?, ?B/s]\n",
            "100% 25.4k/25.4k [00:00<00:00, 31.9MB/s]\n"
          ]
        }
      ]
    },
    {
      "cell_type": "code",
      "source": [
        "! unzip  '/content/data-science-salaries-2023.zip' -d '/content/data-science-salaries-2023'"
      ],
      "metadata": {
        "colab": {
          "base_uri": "https://localhost:8080/"
        },
        "id": "0HtyXicMSKKw",
        "outputId": "9cd74c44-c310-40d2-824a-5fbbfe5b4c94"
      },
      "execution_count": 5,
      "outputs": [
        {
          "output_type": "stream",
          "name": "stdout",
          "text": [
            "Archive:  /content/data-science-salaries-2023.zip\n",
            "  inflating: /content/data-science-salaries-2023/ds_salaries.csv  \n"
          ]
        }
      ]
    },
    {
      "cell_type": "code",
      "source": [
        "import numpy as np\n",
        "import pandas as pd\n",
        "from matplotlib import pyplot as plt"
      ],
      "metadata": {
        "id": "m30ZgLf-Stcs"
      },
      "execution_count": 387,
      "outputs": []
    },
    {
      "cell_type": "code",
      "source": [
        "start_data = pd.read_csv('/content/data-science-salaries-2023/ds_salaries.csv', sep=',')\n",
        "start_data.head()"
      ],
      "metadata": {
        "id": "UZ3euM2OTBAH",
        "colab": {
          "base_uri": "https://localhost:8080/",
          "height": 330
        },
        "outputId": "2dc7a605-5c3d-4508-df3b-2c48ac03b690"
      },
      "execution_count": 388,
      "outputs": [
        {
          "output_type": "execute_result",
          "data": {
            "text/plain": [
              "   work_year experience_level employment_type                 job_title  \\\n",
              "0       2023               SE              FT  Principal Data Scientist   \n",
              "1       2023               MI              CT               ML Engineer   \n",
              "2       2023               MI              CT               ML Engineer   \n",
              "3       2023               SE              FT            Data Scientist   \n",
              "4       2023               SE              FT            Data Scientist   \n",
              "\n",
              "   salary salary_currency  salary_in_usd employee_residence  remote_ratio  \\\n",
              "0   80000             EUR          85847                 ES           100   \n",
              "1   30000             USD          30000                 US           100   \n",
              "2   25500             USD          25500                 US           100   \n",
              "3  175000             USD         175000                 CA           100   \n",
              "4  120000             USD         120000                 CA           100   \n",
              "\n",
              "  company_location company_size  \n",
              "0               ES            L  \n",
              "1               US            S  \n",
              "2               US            S  \n",
              "3               CA            M  \n",
              "4               CA            M  "
            ],
            "text/html": [
              "\n",
              "  <div id=\"df-0e5ad159-0421-422f-9f52-6a92d6f99b0f\" class=\"colab-df-container\">\n",
              "    <div>\n",
              "<style scoped>\n",
              "    .dataframe tbody tr th:only-of-type {\n",
              "        vertical-align: middle;\n",
              "    }\n",
              "\n",
              "    .dataframe tbody tr th {\n",
              "        vertical-align: top;\n",
              "    }\n",
              "\n",
              "    .dataframe thead th {\n",
              "        text-align: right;\n",
              "    }\n",
              "</style>\n",
              "<table border=\"1\" class=\"dataframe\">\n",
              "  <thead>\n",
              "    <tr style=\"text-align: right;\">\n",
              "      <th></th>\n",
              "      <th>work_year</th>\n",
              "      <th>experience_level</th>\n",
              "      <th>employment_type</th>\n",
              "      <th>job_title</th>\n",
              "      <th>salary</th>\n",
              "      <th>salary_currency</th>\n",
              "      <th>salary_in_usd</th>\n",
              "      <th>employee_residence</th>\n",
              "      <th>remote_ratio</th>\n",
              "      <th>company_location</th>\n",
              "      <th>company_size</th>\n",
              "    </tr>\n",
              "  </thead>\n",
              "  <tbody>\n",
              "    <tr>\n",
              "      <th>0</th>\n",
              "      <td>2023</td>\n",
              "      <td>SE</td>\n",
              "      <td>FT</td>\n",
              "      <td>Principal Data Scientist</td>\n",
              "      <td>80000</td>\n",
              "      <td>EUR</td>\n",
              "      <td>85847</td>\n",
              "      <td>ES</td>\n",
              "      <td>100</td>\n",
              "      <td>ES</td>\n",
              "      <td>L</td>\n",
              "    </tr>\n",
              "    <tr>\n",
              "      <th>1</th>\n",
              "      <td>2023</td>\n",
              "      <td>MI</td>\n",
              "      <td>CT</td>\n",
              "      <td>ML Engineer</td>\n",
              "      <td>30000</td>\n",
              "      <td>USD</td>\n",
              "      <td>30000</td>\n",
              "      <td>US</td>\n",
              "      <td>100</td>\n",
              "      <td>US</td>\n",
              "      <td>S</td>\n",
              "    </tr>\n",
              "    <tr>\n",
              "      <th>2</th>\n",
              "      <td>2023</td>\n",
              "      <td>MI</td>\n",
              "      <td>CT</td>\n",
              "      <td>ML Engineer</td>\n",
              "      <td>25500</td>\n",
              "      <td>USD</td>\n",
              "      <td>25500</td>\n",
              "      <td>US</td>\n",
              "      <td>100</td>\n",
              "      <td>US</td>\n",
              "      <td>S</td>\n",
              "    </tr>\n",
              "    <tr>\n",
              "      <th>3</th>\n",
              "      <td>2023</td>\n",
              "      <td>SE</td>\n",
              "      <td>FT</td>\n",
              "      <td>Data Scientist</td>\n",
              "      <td>175000</td>\n",
              "      <td>USD</td>\n",
              "      <td>175000</td>\n",
              "      <td>CA</td>\n",
              "      <td>100</td>\n",
              "      <td>CA</td>\n",
              "      <td>M</td>\n",
              "    </tr>\n",
              "    <tr>\n",
              "      <th>4</th>\n",
              "      <td>2023</td>\n",
              "      <td>SE</td>\n",
              "      <td>FT</td>\n",
              "      <td>Data Scientist</td>\n",
              "      <td>120000</td>\n",
              "      <td>USD</td>\n",
              "      <td>120000</td>\n",
              "      <td>CA</td>\n",
              "      <td>100</td>\n",
              "      <td>CA</td>\n",
              "      <td>M</td>\n",
              "    </tr>\n",
              "  </tbody>\n",
              "</table>\n",
              "</div>\n",
              "    <div class=\"colab-df-buttons\">\n",
              "\n",
              "  <div class=\"colab-df-container\">\n",
              "    <button class=\"colab-df-convert\" onclick=\"convertToInteractive('df-0e5ad159-0421-422f-9f52-6a92d6f99b0f')\"\n",
              "            title=\"Convert this dataframe to an interactive table.\"\n",
              "            style=\"display:none;\">\n",
              "\n",
              "  <svg xmlns=\"http://www.w3.org/2000/svg\" height=\"24px\" viewBox=\"0 -960 960 960\">\n",
              "    <path d=\"M120-120v-720h720v720H120Zm60-500h600v-160H180v160Zm220 220h160v-160H400v160Zm0 220h160v-160H400v160ZM180-400h160v-160H180v160Zm440 0h160v-160H620v160ZM180-180h160v-160H180v160Zm440 0h160v-160H620v160Z\"/>\n",
              "  </svg>\n",
              "    </button>\n",
              "\n",
              "  <style>\n",
              "    .colab-df-container {\n",
              "      display:flex;\n",
              "      gap: 12px;\n",
              "    }\n",
              "\n",
              "    .colab-df-convert {\n",
              "      background-color: #E8F0FE;\n",
              "      border: none;\n",
              "      border-radius: 50%;\n",
              "      cursor: pointer;\n",
              "      display: none;\n",
              "      fill: #1967D2;\n",
              "      height: 32px;\n",
              "      padding: 0 0 0 0;\n",
              "      width: 32px;\n",
              "    }\n",
              "\n",
              "    .colab-df-convert:hover {\n",
              "      background-color: #E2EBFA;\n",
              "      box-shadow: 0px 1px 2px rgba(60, 64, 67, 0.3), 0px 1px 3px 1px rgba(60, 64, 67, 0.15);\n",
              "      fill: #174EA6;\n",
              "    }\n",
              "\n",
              "    .colab-df-buttons div {\n",
              "      margin-bottom: 4px;\n",
              "    }\n",
              "\n",
              "    [theme=dark] .colab-df-convert {\n",
              "      background-color: #3B4455;\n",
              "      fill: #D2E3FC;\n",
              "    }\n",
              "\n",
              "    [theme=dark] .colab-df-convert:hover {\n",
              "      background-color: #434B5C;\n",
              "      box-shadow: 0px 1px 3px 1px rgba(0, 0, 0, 0.15);\n",
              "      filter: drop-shadow(0px 1px 2px rgba(0, 0, 0, 0.3));\n",
              "      fill: #FFFFFF;\n",
              "    }\n",
              "  </style>\n",
              "\n",
              "    <script>\n",
              "      const buttonEl =\n",
              "        document.querySelector('#df-0e5ad159-0421-422f-9f52-6a92d6f99b0f button.colab-df-convert');\n",
              "      buttonEl.style.display =\n",
              "        google.colab.kernel.accessAllowed ? 'block' : 'none';\n",
              "\n",
              "      async function convertToInteractive(key) {\n",
              "        const element = document.querySelector('#df-0e5ad159-0421-422f-9f52-6a92d6f99b0f');\n",
              "        const dataTable =\n",
              "          await google.colab.kernel.invokeFunction('convertToInteractive',\n",
              "                                                    [key], {});\n",
              "        if (!dataTable) return;\n",
              "\n",
              "        const docLinkHtml = 'Like what you see? Visit the ' +\n",
              "          '<a target=\"_blank\" href=https://colab.research.google.com/notebooks/data_table.ipynb>data table notebook</a>'\n",
              "          + ' to learn more about interactive tables.';\n",
              "        element.innerHTML = '';\n",
              "        dataTable['output_type'] = 'display_data';\n",
              "        await google.colab.output.renderOutput(dataTable, element);\n",
              "        const docLink = document.createElement('div');\n",
              "        docLink.innerHTML = docLinkHtml;\n",
              "        element.appendChild(docLink);\n",
              "      }\n",
              "    </script>\n",
              "  </div>\n",
              "\n",
              "\n",
              "<div id=\"df-22db87be-581a-4059-80ea-ead09079fadb\">\n",
              "  <button class=\"colab-df-quickchart\" onclick=\"quickchart('df-22db87be-581a-4059-80ea-ead09079fadb')\"\n",
              "            title=\"Suggest charts\"\n",
              "            style=\"display:none;\">\n",
              "\n",
              "<svg xmlns=\"http://www.w3.org/2000/svg\" height=\"24px\"viewBox=\"0 0 24 24\"\n",
              "     width=\"24px\">\n",
              "    <g>\n",
              "        <path d=\"M19 3H5c-1.1 0-2 .9-2 2v14c0 1.1.9 2 2 2h14c1.1 0 2-.9 2-2V5c0-1.1-.9-2-2-2zM9 17H7v-7h2v7zm4 0h-2V7h2v10zm4 0h-2v-4h2v4z\"/>\n",
              "    </g>\n",
              "</svg>\n",
              "  </button>\n",
              "\n",
              "<style>\n",
              "  .colab-df-quickchart {\n",
              "      --bg-color: #E8F0FE;\n",
              "      --fill-color: #1967D2;\n",
              "      --hover-bg-color: #E2EBFA;\n",
              "      --hover-fill-color: #174EA6;\n",
              "      --disabled-fill-color: #AAA;\n",
              "      --disabled-bg-color: #DDD;\n",
              "  }\n",
              "\n",
              "  [theme=dark] .colab-df-quickchart {\n",
              "      --bg-color: #3B4455;\n",
              "      --fill-color: #D2E3FC;\n",
              "      --hover-bg-color: #434B5C;\n",
              "      --hover-fill-color: #FFFFFF;\n",
              "      --disabled-bg-color: #3B4455;\n",
              "      --disabled-fill-color: #666;\n",
              "  }\n",
              "\n",
              "  .colab-df-quickchart {\n",
              "    background-color: var(--bg-color);\n",
              "    border: none;\n",
              "    border-radius: 50%;\n",
              "    cursor: pointer;\n",
              "    display: none;\n",
              "    fill: var(--fill-color);\n",
              "    height: 32px;\n",
              "    padding: 0;\n",
              "    width: 32px;\n",
              "  }\n",
              "\n",
              "  .colab-df-quickchart:hover {\n",
              "    background-color: var(--hover-bg-color);\n",
              "    box-shadow: 0 1px 2px rgba(60, 64, 67, 0.3), 0 1px 3px 1px rgba(60, 64, 67, 0.15);\n",
              "    fill: var(--button-hover-fill-color);\n",
              "  }\n",
              "\n",
              "  .colab-df-quickchart-complete:disabled,\n",
              "  .colab-df-quickchart-complete:disabled:hover {\n",
              "    background-color: var(--disabled-bg-color);\n",
              "    fill: var(--disabled-fill-color);\n",
              "    box-shadow: none;\n",
              "  }\n",
              "\n",
              "  .colab-df-spinner {\n",
              "    border: 2px solid var(--fill-color);\n",
              "    border-color: transparent;\n",
              "    border-bottom-color: var(--fill-color);\n",
              "    animation:\n",
              "      spin 1s steps(1) infinite;\n",
              "  }\n",
              "\n",
              "  @keyframes spin {\n",
              "    0% {\n",
              "      border-color: transparent;\n",
              "      border-bottom-color: var(--fill-color);\n",
              "      border-left-color: var(--fill-color);\n",
              "    }\n",
              "    20% {\n",
              "      border-color: transparent;\n",
              "      border-left-color: var(--fill-color);\n",
              "      border-top-color: var(--fill-color);\n",
              "    }\n",
              "    30% {\n",
              "      border-color: transparent;\n",
              "      border-left-color: var(--fill-color);\n",
              "      border-top-color: var(--fill-color);\n",
              "      border-right-color: var(--fill-color);\n",
              "    }\n",
              "    40% {\n",
              "      border-color: transparent;\n",
              "      border-right-color: var(--fill-color);\n",
              "      border-top-color: var(--fill-color);\n",
              "    }\n",
              "    60% {\n",
              "      border-color: transparent;\n",
              "      border-right-color: var(--fill-color);\n",
              "    }\n",
              "    80% {\n",
              "      border-color: transparent;\n",
              "      border-right-color: var(--fill-color);\n",
              "      border-bottom-color: var(--fill-color);\n",
              "    }\n",
              "    90% {\n",
              "      border-color: transparent;\n",
              "      border-bottom-color: var(--fill-color);\n",
              "    }\n",
              "  }\n",
              "</style>\n",
              "\n",
              "  <script>\n",
              "    async function quickchart(key) {\n",
              "      const quickchartButtonEl =\n",
              "        document.querySelector('#' + key + ' button');\n",
              "      quickchartButtonEl.disabled = true;  // To prevent multiple clicks.\n",
              "      quickchartButtonEl.classList.add('colab-df-spinner');\n",
              "      try {\n",
              "        const charts = await google.colab.kernel.invokeFunction(\n",
              "            'suggestCharts', [key], {});\n",
              "      } catch (error) {\n",
              "        console.error('Error during call to suggestCharts:', error);\n",
              "      }\n",
              "      quickchartButtonEl.classList.remove('colab-df-spinner');\n",
              "      quickchartButtonEl.classList.add('colab-df-quickchart-complete');\n",
              "    }\n",
              "    (() => {\n",
              "      let quickchartButtonEl =\n",
              "        document.querySelector('#df-22db87be-581a-4059-80ea-ead09079fadb button');\n",
              "      quickchartButtonEl.style.display =\n",
              "        google.colab.kernel.accessAllowed ? 'block' : 'none';\n",
              "    })();\n",
              "  </script>\n",
              "</div>\n",
              "    </div>\n",
              "  </div>\n"
            ],
            "application/vnd.google.colaboratory.intrinsic+json": {
              "type": "dataframe",
              "variable_name": "start_data",
              "summary": "{\n  \"name\": \"start_data\",\n  \"rows\": 3755,\n  \"fields\": [\n    {\n      \"column\": \"work_year\",\n      \"properties\": {\n        \"dtype\": \"number\",\n        \"std\": 0,\n        \"min\": 2020,\n        \"max\": 2023,\n        \"num_unique_values\": 4,\n        \"samples\": [\n          2022,\n          2021,\n          2023\n        ],\n        \"semantic_type\": \"\",\n        \"description\": \"\"\n      }\n    },\n    {\n      \"column\": \"experience_level\",\n      \"properties\": {\n        \"dtype\": \"category\",\n        \"num_unique_values\": 4,\n        \"samples\": [\n          \"MI\",\n          \"EX\",\n          \"SE\"\n        ],\n        \"semantic_type\": \"\",\n        \"description\": \"\"\n      }\n    },\n    {\n      \"column\": \"employment_type\",\n      \"properties\": {\n        \"dtype\": \"category\",\n        \"num_unique_values\": 4,\n        \"samples\": [\n          \"CT\",\n          \"PT\",\n          \"FT\"\n        ],\n        \"semantic_type\": \"\",\n        \"description\": \"\"\n      }\n    },\n    {\n      \"column\": \"job_title\",\n      \"properties\": {\n        \"dtype\": \"category\",\n        \"num_unique_values\": 93,\n        \"samples\": [\n          \"Cloud Database Engineer\",\n          \"Staff Data Analyst\",\n          \"Insight Analyst\"\n        ],\n        \"semantic_type\": \"\",\n        \"description\": \"\"\n      }\n    },\n    {\n      \"column\": \"salary\",\n      \"properties\": {\n        \"dtype\": \"number\",\n        \"std\": 671676,\n        \"min\": 6000,\n        \"max\": 30400000,\n        \"num_unique_values\": 815,\n        \"samples\": [\n          84570,\n          138000,\n          370000\n        ],\n        \"semantic_type\": \"\",\n        \"description\": \"\"\n      }\n    },\n    {\n      \"column\": \"salary_currency\",\n      \"properties\": {\n        \"dtype\": \"category\",\n        \"num_unique_values\": 20,\n        \"samples\": [\n          \"EUR\",\n          \"MXN\",\n          \"DKK\"\n        ],\n        \"semantic_type\": \"\",\n        \"description\": \"\"\n      }\n    },\n    {\n      \"column\": \"salary_in_usd\",\n      \"properties\": {\n        \"dtype\": \"number\",\n        \"std\": 63055,\n        \"min\": 5132,\n        \"max\": 450000,\n        \"num_unique_values\": 1035,\n        \"samples\": [\n          205600,\n          375000,\n          140700\n        ],\n        \"semantic_type\": \"\",\n        \"description\": \"\"\n      }\n    },\n    {\n      \"column\": \"employee_residence\",\n      \"properties\": {\n        \"dtype\": \"category\",\n        \"num_unique_values\": 78,\n        \"samples\": [\n          \"AR\",\n          \"ES\",\n          \"AM\"\n        ],\n        \"semantic_type\": \"\",\n        \"description\": \"\"\n      }\n    },\n    {\n      \"column\": \"remote_ratio\",\n      \"properties\": {\n        \"dtype\": \"number\",\n        \"std\": 48,\n        \"min\": 0,\n        \"max\": 100,\n        \"num_unique_values\": 3,\n        \"samples\": [\n          100,\n          0,\n          50\n        ],\n        \"semantic_type\": \"\",\n        \"description\": \"\"\n      }\n    },\n    {\n      \"column\": \"company_location\",\n      \"properties\": {\n        \"dtype\": \"category\",\n        \"num_unique_values\": 72,\n        \"samples\": [\n          \"GB\",\n          \"MY\",\n          \"SG\"\n        ],\n        \"semantic_type\": \"\",\n        \"description\": \"\"\n      }\n    },\n    {\n      \"column\": \"company_size\",\n      \"properties\": {\n        \"dtype\": \"category\",\n        \"num_unique_values\": 3,\n        \"samples\": [\n          \"L\",\n          \"S\",\n          \"M\"\n        ],\n        \"semantic_type\": \"\",\n        \"description\": \"\"\n      }\n    }\n  ]\n}"
            }
          },
          "metadata": {},
          "execution_count": 388
        }
      ]
    },
    {
      "cell_type": "code",
      "source": [
        "start_data['Target'] = start_data['salary_in_usd']\n",
        "start_data.drop(['salary_in_usd'], axis=1, inplace=True)\n",
        "start_data.drop(['salary'], axis=1, inplace=True)"
      ],
      "metadata": {
        "id": "OQHImnpX2apH"
      },
      "execution_count": 389,
      "outputs": []
    },
    {
      "cell_type": "markdown",
      "source": [
        "О датасете\n",
        "Набор данных о зарплатах в области науки о данных содержит 11 столбцов, каждый из которых:\n",
        "\n",
        "work_year: год выплаты зарплаты.\n",
        "\n",
        "experience_level: уровень опыта работы на должности в течение года.\n",
        "\n",
        "занятости_типа: тип занятости для должности.\n",
        "\n",
        "job_title: Должность, на которой вы работали в течение года.\n",
        "\n",
        "зарплата: общая сумма выплаченной брутто-зарплаты.\n",
        "\n",
        "Salary_currency: Валюта выплачиваемой зарплаты в виде кода валюты ISO 4217.\n",
        "\n",
        "Salaryinusd: Заработная плата в долларах США.\n",
        "\n",
        "работник_резиденция: основная страна проживания сотрудника в течение рабочего года в виде кода страны ISO 3166.\n",
        "\n",
        "Remote_ratio: общий объем работы, выполненной удаленно.\n",
        "\n",
        "Company_location: Страна головного офиса или филиала работодателя.\n",
        "\n",
        "Company_size: Среднее количество людей, работавших в компании в течение года.\n"
      ],
      "metadata": {
        "id": "6LYiqwL1V87q"
      }
    },
    {
      "cell_type": "markdown",
      "source": [
        "## Информация о признаках"
      ],
      "metadata": {
        "id": "qszStAdWw56d"
      }
    },
    {
      "cell_type": "code",
      "source": [
        "print(\"Кол-во уникальных значений\")\n",
        "print(start_data.nunique(), '\\n')\n",
        "\n",
        "print(\"Типы переменных о датафрейме, кол-во пропущенных значений\")\n",
        "print(start_data.info())"
      ],
      "metadata": {
        "id": "nwwMpfhHZMeS",
        "colab": {
          "base_uri": "https://localhost:8080/"
        },
        "outputId": "cccdf041-d6c9-41a6-f4ce-33d9074b52e3"
      },
      "execution_count": 390,
      "outputs": [
        {
          "output_type": "stream",
          "name": "stdout",
          "text": [
            "Кол-во уникальных значений\n",
            "work_year                4\n",
            "experience_level         4\n",
            "employment_type          4\n",
            "job_title               93\n",
            "salary_currency         20\n",
            "employee_residence      78\n",
            "remote_ratio             3\n",
            "company_location        72\n",
            "company_size             3\n",
            "Target                1035\n",
            "dtype: int64 \n",
            "\n",
            "Типы переменных о датафрейме, кол-во пропущенных значений\n",
            "<class 'pandas.core.frame.DataFrame'>\n",
            "RangeIndex: 3755 entries, 0 to 3754\n",
            "Data columns (total 10 columns):\n",
            " #   Column              Non-Null Count  Dtype \n",
            "---  ------              --------------  ----- \n",
            " 0   work_year           3755 non-null   int64 \n",
            " 1   experience_level    3755 non-null   object\n",
            " 2   employment_type     3755 non-null   object\n",
            " 3   job_title           3755 non-null   object\n",
            " 4   salary_currency     3755 non-null   object\n",
            " 5   employee_residence  3755 non-null   object\n",
            " 6   remote_ratio        3755 non-null   int64 \n",
            " 7   company_location    3755 non-null   object\n",
            " 8   company_size        3755 non-null   object\n",
            " 9   Target              3755 non-null   int64 \n",
            "dtypes: int64(3), object(7)\n",
            "memory usage: 293.5+ KB\n",
            "None\n"
          ]
        }
      ]
    },
    {
      "cell_type": "code",
      "source": [
        "categ_col = ['experience_level', 'employment_type', 'job_title',\n",
        "             'salary_currency', \"employee_residence\",\n",
        "             \"company_location\"]\n",
        "\n"
      ],
      "metadata": {
        "id": "2h1n7OcNE0E8"
      },
      "execution_count": 391,
      "outputs": []
    },
    {
      "cell_type": "code",
      "source": [
        "start_data.head()"
      ],
      "metadata": {
        "colab": {
          "base_uri": "https://localhost:8080/",
          "height": 330
        },
        "id": "7pnk9HG63JtS",
        "outputId": "f4f16ab0-f4b1-4258-9db2-f6b46fcf4395"
      },
      "execution_count": 392,
      "outputs": [
        {
          "output_type": "execute_result",
          "data": {
            "text/plain": [
              "   work_year experience_level employment_type                 job_title  \\\n",
              "0       2023               SE              FT  Principal Data Scientist   \n",
              "1       2023               MI              CT               ML Engineer   \n",
              "2       2023               MI              CT               ML Engineer   \n",
              "3       2023               SE              FT            Data Scientist   \n",
              "4       2023               SE              FT            Data Scientist   \n",
              "\n",
              "  salary_currency employee_residence  remote_ratio company_location  \\\n",
              "0             EUR                 ES           100               ES   \n",
              "1             USD                 US           100               US   \n",
              "2             USD                 US           100               US   \n",
              "3             USD                 CA           100               CA   \n",
              "4             USD                 CA           100               CA   \n",
              "\n",
              "  company_size  Target  \n",
              "0            L   85847  \n",
              "1            S   30000  \n",
              "2            S   25500  \n",
              "3            M  175000  \n",
              "4            M  120000  "
            ],
            "text/html": [
              "\n",
              "  <div id=\"df-ab156a90-ed26-4980-a803-177fc0cfc0ba\" class=\"colab-df-container\">\n",
              "    <div>\n",
              "<style scoped>\n",
              "    .dataframe tbody tr th:only-of-type {\n",
              "        vertical-align: middle;\n",
              "    }\n",
              "\n",
              "    .dataframe tbody tr th {\n",
              "        vertical-align: top;\n",
              "    }\n",
              "\n",
              "    .dataframe thead th {\n",
              "        text-align: right;\n",
              "    }\n",
              "</style>\n",
              "<table border=\"1\" class=\"dataframe\">\n",
              "  <thead>\n",
              "    <tr style=\"text-align: right;\">\n",
              "      <th></th>\n",
              "      <th>work_year</th>\n",
              "      <th>experience_level</th>\n",
              "      <th>employment_type</th>\n",
              "      <th>job_title</th>\n",
              "      <th>salary_currency</th>\n",
              "      <th>employee_residence</th>\n",
              "      <th>remote_ratio</th>\n",
              "      <th>company_location</th>\n",
              "      <th>company_size</th>\n",
              "      <th>Target</th>\n",
              "    </tr>\n",
              "  </thead>\n",
              "  <tbody>\n",
              "    <tr>\n",
              "      <th>0</th>\n",
              "      <td>2023</td>\n",
              "      <td>SE</td>\n",
              "      <td>FT</td>\n",
              "      <td>Principal Data Scientist</td>\n",
              "      <td>EUR</td>\n",
              "      <td>ES</td>\n",
              "      <td>100</td>\n",
              "      <td>ES</td>\n",
              "      <td>L</td>\n",
              "      <td>85847</td>\n",
              "    </tr>\n",
              "    <tr>\n",
              "      <th>1</th>\n",
              "      <td>2023</td>\n",
              "      <td>MI</td>\n",
              "      <td>CT</td>\n",
              "      <td>ML Engineer</td>\n",
              "      <td>USD</td>\n",
              "      <td>US</td>\n",
              "      <td>100</td>\n",
              "      <td>US</td>\n",
              "      <td>S</td>\n",
              "      <td>30000</td>\n",
              "    </tr>\n",
              "    <tr>\n",
              "      <th>2</th>\n",
              "      <td>2023</td>\n",
              "      <td>MI</td>\n",
              "      <td>CT</td>\n",
              "      <td>ML Engineer</td>\n",
              "      <td>USD</td>\n",
              "      <td>US</td>\n",
              "      <td>100</td>\n",
              "      <td>US</td>\n",
              "      <td>S</td>\n",
              "      <td>25500</td>\n",
              "    </tr>\n",
              "    <tr>\n",
              "      <th>3</th>\n",
              "      <td>2023</td>\n",
              "      <td>SE</td>\n",
              "      <td>FT</td>\n",
              "      <td>Data Scientist</td>\n",
              "      <td>USD</td>\n",
              "      <td>CA</td>\n",
              "      <td>100</td>\n",
              "      <td>CA</td>\n",
              "      <td>M</td>\n",
              "      <td>175000</td>\n",
              "    </tr>\n",
              "    <tr>\n",
              "      <th>4</th>\n",
              "      <td>2023</td>\n",
              "      <td>SE</td>\n",
              "      <td>FT</td>\n",
              "      <td>Data Scientist</td>\n",
              "      <td>USD</td>\n",
              "      <td>CA</td>\n",
              "      <td>100</td>\n",
              "      <td>CA</td>\n",
              "      <td>M</td>\n",
              "      <td>120000</td>\n",
              "    </tr>\n",
              "  </tbody>\n",
              "</table>\n",
              "</div>\n",
              "    <div class=\"colab-df-buttons\">\n",
              "\n",
              "  <div class=\"colab-df-container\">\n",
              "    <button class=\"colab-df-convert\" onclick=\"convertToInteractive('df-ab156a90-ed26-4980-a803-177fc0cfc0ba')\"\n",
              "            title=\"Convert this dataframe to an interactive table.\"\n",
              "            style=\"display:none;\">\n",
              "\n",
              "  <svg xmlns=\"http://www.w3.org/2000/svg\" height=\"24px\" viewBox=\"0 -960 960 960\">\n",
              "    <path d=\"M120-120v-720h720v720H120Zm60-500h600v-160H180v160Zm220 220h160v-160H400v160Zm0 220h160v-160H400v160ZM180-400h160v-160H180v160Zm440 0h160v-160H620v160ZM180-180h160v-160H180v160Zm440 0h160v-160H620v160Z\"/>\n",
              "  </svg>\n",
              "    </button>\n",
              "\n",
              "  <style>\n",
              "    .colab-df-container {\n",
              "      display:flex;\n",
              "      gap: 12px;\n",
              "    }\n",
              "\n",
              "    .colab-df-convert {\n",
              "      background-color: #E8F0FE;\n",
              "      border: none;\n",
              "      border-radius: 50%;\n",
              "      cursor: pointer;\n",
              "      display: none;\n",
              "      fill: #1967D2;\n",
              "      height: 32px;\n",
              "      padding: 0 0 0 0;\n",
              "      width: 32px;\n",
              "    }\n",
              "\n",
              "    .colab-df-convert:hover {\n",
              "      background-color: #E2EBFA;\n",
              "      box-shadow: 0px 1px 2px rgba(60, 64, 67, 0.3), 0px 1px 3px 1px rgba(60, 64, 67, 0.15);\n",
              "      fill: #174EA6;\n",
              "    }\n",
              "\n",
              "    .colab-df-buttons div {\n",
              "      margin-bottom: 4px;\n",
              "    }\n",
              "\n",
              "    [theme=dark] .colab-df-convert {\n",
              "      background-color: #3B4455;\n",
              "      fill: #D2E3FC;\n",
              "    }\n",
              "\n",
              "    [theme=dark] .colab-df-convert:hover {\n",
              "      background-color: #434B5C;\n",
              "      box-shadow: 0px 1px 3px 1px rgba(0, 0, 0, 0.15);\n",
              "      filter: drop-shadow(0px 1px 2px rgba(0, 0, 0, 0.3));\n",
              "      fill: #FFFFFF;\n",
              "    }\n",
              "  </style>\n",
              "\n",
              "    <script>\n",
              "      const buttonEl =\n",
              "        document.querySelector('#df-ab156a90-ed26-4980-a803-177fc0cfc0ba button.colab-df-convert');\n",
              "      buttonEl.style.display =\n",
              "        google.colab.kernel.accessAllowed ? 'block' : 'none';\n",
              "\n",
              "      async function convertToInteractive(key) {\n",
              "        const element = document.querySelector('#df-ab156a90-ed26-4980-a803-177fc0cfc0ba');\n",
              "        const dataTable =\n",
              "          await google.colab.kernel.invokeFunction('convertToInteractive',\n",
              "                                                    [key], {});\n",
              "        if (!dataTable) return;\n",
              "\n",
              "        const docLinkHtml = 'Like what you see? Visit the ' +\n",
              "          '<a target=\"_blank\" href=https://colab.research.google.com/notebooks/data_table.ipynb>data table notebook</a>'\n",
              "          + ' to learn more about interactive tables.';\n",
              "        element.innerHTML = '';\n",
              "        dataTable['output_type'] = 'display_data';\n",
              "        await google.colab.output.renderOutput(dataTable, element);\n",
              "        const docLink = document.createElement('div');\n",
              "        docLink.innerHTML = docLinkHtml;\n",
              "        element.appendChild(docLink);\n",
              "      }\n",
              "    </script>\n",
              "  </div>\n",
              "\n",
              "\n",
              "<div id=\"df-a8da06eb-7b2d-41a9-abd7-71d092258700\">\n",
              "  <button class=\"colab-df-quickchart\" onclick=\"quickchart('df-a8da06eb-7b2d-41a9-abd7-71d092258700')\"\n",
              "            title=\"Suggest charts\"\n",
              "            style=\"display:none;\">\n",
              "\n",
              "<svg xmlns=\"http://www.w3.org/2000/svg\" height=\"24px\"viewBox=\"0 0 24 24\"\n",
              "     width=\"24px\">\n",
              "    <g>\n",
              "        <path d=\"M19 3H5c-1.1 0-2 .9-2 2v14c0 1.1.9 2 2 2h14c1.1 0 2-.9 2-2V5c0-1.1-.9-2-2-2zM9 17H7v-7h2v7zm4 0h-2V7h2v10zm4 0h-2v-4h2v4z\"/>\n",
              "    </g>\n",
              "</svg>\n",
              "  </button>\n",
              "\n",
              "<style>\n",
              "  .colab-df-quickchart {\n",
              "      --bg-color: #E8F0FE;\n",
              "      --fill-color: #1967D2;\n",
              "      --hover-bg-color: #E2EBFA;\n",
              "      --hover-fill-color: #174EA6;\n",
              "      --disabled-fill-color: #AAA;\n",
              "      --disabled-bg-color: #DDD;\n",
              "  }\n",
              "\n",
              "  [theme=dark] .colab-df-quickchart {\n",
              "      --bg-color: #3B4455;\n",
              "      --fill-color: #D2E3FC;\n",
              "      --hover-bg-color: #434B5C;\n",
              "      --hover-fill-color: #FFFFFF;\n",
              "      --disabled-bg-color: #3B4455;\n",
              "      --disabled-fill-color: #666;\n",
              "  }\n",
              "\n",
              "  .colab-df-quickchart {\n",
              "    background-color: var(--bg-color);\n",
              "    border: none;\n",
              "    border-radius: 50%;\n",
              "    cursor: pointer;\n",
              "    display: none;\n",
              "    fill: var(--fill-color);\n",
              "    height: 32px;\n",
              "    padding: 0;\n",
              "    width: 32px;\n",
              "  }\n",
              "\n",
              "  .colab-df-quickchart:hover {\n",
              "    background-color: var(--hover-bg-color);\n",
              "    box-shadow: 0 1px 2px rgba(60, 64, 67, 0.3), 0 1px 3px 1px rgba(60, 64, 67, 0.15);\n",
              "    fill: var(--button-hover-fill-color);\n",
              "  }\n",
              "\n",
              "  .colab-df-quickchart-complete:disabled,\n",
              "  .colab-df-quickchart-complete:disabled:hover {\n",
              "    background-color: var(--disabled-bg-color);\n",
              "    fill: var(--disabled-fill-color);\n",
              "    box-shadow: none;\n",
              "  }\n",
              "\n",
              "  .colab-df-spinner {\n",
              "    border: 2px solid var(--fill-color);\n",
              "    border-color: transparent;\n",
              "    border-bottom-color: var(--fill-color);\n",
              "    animation:\n",
              "      spin 1s steps(1) infinite;\n",
              "  }\n",
              "\n",
              "  @keyframes spin {\n",
              "    0% {\n",
              "      border-color: transparent;\n",
              "      border-bottom-color: var(--fill-color);\n",
              "      border-left-color: var(--fill-color);\n",
              "    }\n",
              "    20% {\n",
              "      border-color: transparent;\n",
              "      border-left-color: var(--fill-color);\n",
              "      border-top-color: var(--fill-color);\n",
              "    }\n",
              "    30% {\n",
              "      border-color: transparent;\n",
              "      border-left-color: var(--fill-color);\n",
              "      border-top-color: var(--fill-color);\n",
              "      border-right-color: var(--fill-color);\n",
              "    }\n",
              "    40% {\n",
              "      border-color: transparent;\n",
              "      border-right-color: var(--fill-color);\n",
              "      border-top-color: var(--fill-color);\n",
              "    }\n",
              "    60% {\n",
              "      border-color: transparent;\n",
              "      border-right-color: var(--fill-color);\n",
              "    }\n",
              "    80% {\n",
              "      border-color: transparent;\n",
              "      border-right-color: var(--fill-color);\n",
              "      border-bottom-color: var(--fill-color);\n",
              "    }\n",
              "    90% {\n",
              "      border-color: transparent;\n",
              "      border-bottom-color: var(--fill-color);\n",
              "    }\n",
              "  }\n",
              "</style>\n",
              "\n",
              "  <script>\n",
              "    async function quickchart(key) {\n",
              "      const quickchartButtonEl =\n",
              "        document.querySelector('#' + key + ' button');\n",
              "      quickchartButtonEl.disabled = true;  // To prevent multiple clicks.\n",
              "      quickchartButtonEl.classList.add('colab-df-spinner');\n",
              "      try {\n",
              "        const charts = await google.colab.kernel.invokeFunction(\n",
              "            'suggestCharts', [key], {});\n",
              "      } catch (error) {\n",
              "        console.error('Error during call to suggestCharts:', error);\n",
              "      }\n",
              "      quickchartButtonEl.classList.remove('colab-df-spinner');\n",
              "      quickchartButtonEl.classList.add('colab-df-quickchart-complete');\n",
              "    }\n",
              "    (() => {\n",
              "      let quickchartButtonEl =\n",
              "        document.querySelector('#df-a8da06eb-7b2d-41a9-abd7-71d092258700 button');\n",
              "      quickchartButtonEl.style.display =\n",
              "        google.colab.kernel.accessAllowed ? 'block' : 'none';\n",
              "    })();\n",
              "  </script>\n",
              "</div>\n",
              "    </div>\n",
              "  </div>\n"
            ],
            "application/vnd.google.colaboratory.intrinsic+json": {
              "type": "dataframe",
              "variable_name": "start_data",
              "summary": "{\n  \"name\": \"start_data\",\n  \"rows\": 3755,\n  \"fields\": [\n    {\n      \"column\": \"work_year\",\n      \"properties\": {\n        \"dtype\": \"number\",\n        \"std\": 0,\n        \"min\": 2020,\n        \"max\": 2023,\n        \"num_unique_values\": 4,\n        \"samples\": [\n          2022,\n          2021,\n          2023\n        ],\n        \"semantic_type\": \"\",\n        \"description\": \"\"\n      }\n    },\n    {\n      \"column\": \"experience_level\",\n      \"properties\": {\n        \"dtype\": \"category\",\n        \"num_unique_values\": 4,\n        \"samples\": [\n          \"MI\",\n          \"EX\",\n          \"SE\"\n        ],\n        \"semantic_type\": \"\",\n        \"description\": \"\"\n      }\n    },\n    {\n      \"column\": \"employment_type\",\n      \"properties\": {\n        \"dtype\": \"category\",\n        \"num_unique_values\": 4,\n        \"samples\": [\n          \"CT\",\n          \"PT\",\n          \"FT\"\n        ],\n        \"semantic_type\": \"\",\n        \"description\": \"\"\n      }\n    },\n    {\n      \"column\": \"job_title\",\n      \"properties\": {\n        \"dtype\": \"category\",\n        \"num_unique_values\": 93,\n        \"samples\": [\n          \"Cloud Database Engineer\",\n          \"Staff Data Analyst\",\n          \"Insight Analyst\"\n        ],\n        \"semantic_type\": \"\",\n        \"description\": \"\"\n      }\n    },\n    {\n      \"column\": \"salary_currency\",\n      \"properties\": {\n        \"dtype\": \"category\",\n        \"num_unique_values\": 20,\n        \"samples\": [\n          \"EUR\",\n          \"MXN\",\n          \"DKK\"\n        ],\n        \"semantic_type\": \"\",\n        \"description\": \"\"\n      }\n    },\n    {\n      \"column\": \"employee_residence\",\n      \"properties\": {\n        \"dtype\": \"category\",\n        \"num_unique_values\": 78,\n        \"samples\": [\n          \"AR\",\n          \"ES\",\n          \"AM\"\n        ],\n        \"semantic_type\": \"\",\n        \"description\": \"\"\n      }\n    },\n    {\n      \"column\": \"remote_ratio\",\n      \"properties\": {\n        \"dtype\": \"number\",\n        \"std\": 48,\n        \"min\": 0,\n        \"max\": 100,\n        \"num_unique_values\": 3,\n        \"samples\": [\n          100,\n          0,\n          50\n        ],\n        \"semantic_type\": \"\",\n        \"description\": \"\"\n      }\n    },\n    {\n      \"column\": \"company_location\",\n      \"properties\": {\n        \"dtype\": \"category\",\n        \"num_unique_values\": 72,\n        \"samples\": [\n          \"GB\",\n          \"MY\",\n          \"SG\"\n        ],\n        \"semantic_type\": \"\",\n        \"description\": \"\"\n      }\n    },\n    {\n      \"column\": \"company_size\",\n      \"properties\": {\n        \"dtype\": \"category\",\n        \"num_unique_values\": 3,\n        \"samples\": [\n          \"L\",\n          \"S\",\n          \"M\"\n        ],\n        \"semantic_type\": \"\",\n        \"description\": \"\"\n      }\n    },\n    {\n      \"column\": \"Target\",\n      \"properties\": {\n        \"dtype\": \"number\",\n        \"std\": 63055,\n        \"min\": 5132,\n        \"max\": 450000,\n        \"num_unique_values\": 1035,\n        \"samples\": [\n          205600,\n          375000,\n          140700\n        ],\n        \"semantic_type\": \"\",\n        \"description\": \"\"\n      }\n    }\n  ]\n}"
            }
          },
          "metadata": {},
          "execution_count": 392
        }
      ]
    },
    {
      "cell_type": "markdown",
      "source": [
        "## Кодирование категориальных переменных"
      ],
      "metadata": {
        "id": "ZjW5a-srD1f3"
      }
    },
    {
      "cell_type": "code",
      "source": [
        "from sklearn.preprocessing import StandardScaler\n",
        "from  sklearn.preprocessing import LabelEncoder, OneHotEncoder\n",
        "\n",
        "data = start_data.copy()\n",
        "oneHotEncode = OneHotEncoder()\n",
        "data_categ_encode = pd.DataFrame(oneHotEncode.fit_transform(data[categ_col]).toarray(), columns = oneHotEncode.get_feature_names_out())\n",
        "\n",
        "data_categ_encode"
      ],
      "metadata": {
        "id": "8WxQTxiHn7Mz",
        "colab": {
          "base_uri": "https://localhost:8080/",
          "height": 495
        },
        "outputId": "59664bd8-e8ff-4b72-f208-e78fe9e445ae"
      },
      "execution_count": 393,
      "outputs": [
        {
          "output_type": "execute_result",
          "data": {
            "text/plain": [
              "      experience_level_EN  experience_level_EX  experience_level_MI  \\\n",
              "0                     0.0                  0.0                  0.0   \n",
              "1                     0.0                  0.0                  1.0   \n",
              "2                     0.0                  0.0                  1.0   \n",
              "3                     0.0                  0.0                  0.0   \n",
              "4                     0.0                  0.0                  0.0   \n",
              "...                   ...                  ...                  ...   \n",
              "3750                  0.0                  0.0                  0.0   \n",
              "3751                  0.0                  0.0                  1.0   \n",
              "3752                  1.0                  0.0                  0.0   \n",
              "3753                  1.0                  0.0                  0.0   \n",
              "3754                  0.0                  0.0                  0.0   \n",
              "\n",
              "      experience_level_SE  employment_type_CT  employment_type_FL  \\\n",
              "0                     1.0                 0.0                 0.0   \n",
              "1                     0.0                 1.0                 0.0   \n",
              "2                     0.0                 1.0                 0.0   \n",
              "3                     1.0                 0.0                 0.0   \n",
              "4                     1.0                 0.0                 0.0   \n",
              "...                   ...                 ...                 ...   \n",
              "3750                  1.0                 0.0                 0.0   \n",
              "3751                  0.0                 0.0                 0.0   \n",
              "3752                  0.0                 0.0                 0.0   \n",
              "3753                  0.0                 1.0                 0.0   \n",
              "3754                  1.0                 0.0                 0.0   \n",
              "\n",
              "      employment_type_FT  employment_type_PT  \\\n",
              "0                    1.0                 0.0   \n",
              "1                    0.0                 0.0   \n",
              "2                    0.0                 0.0   \n",
              "3                    1.0                 0.0   \n",
              "4                    1.0                 0.0   \n",
              "...                  ...                 ...   \n",
              "3750                 1.0                 0.0   \n",
              "3751                 1.0                 0.0   \n",
              "3752                 1.0                 0.0   \n",
              "3753                 0.0                 0.0   \n",
              "3754                 1.0                 0.0   \n",
              "\n",
              "      job_title_3D Computer Vision Researcher  job_title_AI Developer  ...  \\\n",
              "0                                         0.0                     0.0  ...   \n",
              "1                                         0.0                     0.0  ...   \n",
              "2                                         0.0                     0.0  ...   \n",
              "3                                         0.0                     0.0  ...   \n",
              "4                                         0.0                     0.0  ...   \n",
              "...                                       ...                     ...  ...   \n",
              "3750                                      0.0                     0.0  ...   \n",
              "3751                                      0.0                     0.0  ...   \n",
              "3752                                      0.0                     0.0  ...   \n",
              "3753                                      0.0                     0.0  ...   \n",
              "3754                                      0.0                     0.0  ...   \n",
              "\n",
              "      company_location_RU  company_location_SE  company_location_SG  \\\n",
              "0                     0.0                  0.0                  0.0   \n",
              "1                     0.0                  0.0                  0.0   \n",
              "2                     0.0                  0.0                  0.0   \n",
              "3                     0.0                  0.0                  0.0   \n",
              "4                     0.0                  0.0                  0.0   \n",
              "...                   ...                  ...                  ...   \n",
              "3750                  0.0                  0.0                  0.0   \n",
              "3751                  0.0                  0.0                  0.0   \n",
              "3752                  0.0                  0.0                  0.0   \n",
              "3753                  0.0                  0.0                  0.0   \n",
              "3754                  0.0                  0.0                  0.0   \n",
              "\n",
              "      company_location_SI  company_location_SK  company_location_TH  \\\n",
              "0                     0.0                  0.0                  0.0   \n",
              "1                     0.0                  0.0                  0.0   \n",
              "2                     0.0                  0.0                  0.0   \n",
              "3                     0.0                  0.0                  0.0   \n",
              "4                     0.0                  0.0                  0.0   \n",
              "...                   ...                  ...                  ...   \n",
              "3750                  0.0                  0.0                  0.0   \n",
              "3751                  0.0                  0.0                  0.0   \n",
              "3752                  0.0                  0.0                  0.0   \n",
              "3753                  0.0                  0.0                  0.0   \n",
              "3754                  0.0                  0.0                  0.0   \n",
              "\n",
              "      company_location_TR  company_location_UA  company_location_US  \\\n",
              "0                     0.0                  0.0                  0.0   \n",
              "1                     0.0                  0.0                  1.0   \n",
              "2                     0.0                  0.0                  1.0   \n",
              "3                     0.0                  0.0                  0.0   \n",
              "4                     0.0                  0.0                  0.0   \n",
              "...                   ...                  ...                  ...   \n",
              "3750                  0.0                  0.0                  1.0   \n",
              "3751                  0.0                  0.0                  1.0   \n",
              "3752                  0.0                  0.0                  1.0   \n",
              "3753                  0.0                  0.0                  1.0   \n",
              "3754                  0.0                  0.0                  0.0   \n",
              "\n",
              "      company_location_VN  \n",
              "0                     0.0  \n",
              "1                     0.0  \n",
              "2                     0.0  \n",
              "3                     0.0  \n",
              "4                     0.0  \n",
              "...                   ...  \n",
              "3750                  0.0  \n",
              "3751                  0.0  \n",
              "3752                  0.0  \n",
              "3753                  0.0  \n",
              "3754                  0.0  \n",
              "\n",
              "[3755 rows x 271 columns]"
            ],
            "text/html": [
              "\n",
              "  <div id=\"df-1902f93a-6365-43b2-8cae-f745d40377e9\" class=\"colab-df-container\">\n",
              "    <div>\n",
              "<style scoped>\n",
              "    .dataframe tbody tr th:only-of-type {\n",
              "        vertical-align: middle;\n",
              "    }\n",
              "\n",
              "    .dataframe tbody tr th {\n",
              "        vertical-align: top;\n",
              "    }\n",
              "\n",
              "    .dataframe thead th {\n",
              "        text-align: right;\n",
              "    }\n",
              "</style>\n",
              "<table border=\"1\" class=\"dataframe\">\n",
              "  <thead>\n",
              "    <tr style=\"text-align: right;\">\n",
              "      <th></th>\n",
              "      <th>experience_level_EN</th>\n",
              "      <th>experience_level_EX</th>\n",
              "      <th>experience_level_MI</th>\n",
              "      <th>experience_level_SE</th>\n",
              "      <th>employment_type_CT</th>\n",
              "      <th>employment_type_FL</th>\n",
              "      <th>employment_type_FT</th>\n",
              "      <th>employment_type_PT</th>\n",
              "      <th>job_title_3D Computer Vision Researcher</th>\n",
              "      <th>job_title_AI Developer</th>\n",
              "      <th>...</th>\n",
              "      <th>company_location_RU</th>\n",
              "      <th>company_location_SE</th>\n",
              "      <th>company_location_SG</th>\n",
              "      <th>company_location_SI</th>\n",
              "      <th>company_location_SK</th>\n",
              "      <th>company_location_TH</th>\n",
              "      <th>company_location_TR</th>\n",
              "      <th>company_location_UA</th>\n",
              "      <th>company_location_US</th>\n",
              "      <th>company_location_VN</th>\n",
              "    </tr>\n",
              "  </thead>\n",
              "  <tbody>\n",
              "    <tr>\n",
              "      <th>0</th>\n",
              "      <td>0.0</td>\n",
              "      <td>0.0</td>\n",
              "      <td>0.0</td>\n",
              "      <td>1.0</td>\n",
              "      <td>0.0</td>\n",
              "      <td>0.0</td>\n",
              "      <td>1.0</td>\n",
              "      <td>0.0</td>\n",
              "      <td>0.0</td>\n",
              "      <td>0.0</td>\n",
              "      <td>...</td>\n",
              "      <td>0.0</td>\n",
              "      <td>0.0</td>\n",
              "      <td>0.0</td>\n",
              "      <td>0.0</td>\n",
              "      <td>0.0</td>\n",
              "      <td>0.0</td>\n",
              "      <td>0.0</td>\n",
              "      <td>0.0</td>\n",
              "      <td>0.0</td>\n",
              "      <td>0.0</td>\n",
              "    </tr>\n",
              "    <tr>\n",
              "      <th>1</th>\n",
              "      <td>0.0</td>\n",
              "      <td>0.0</td>\n",
              "      <td>1.0</td>\n",
              "      <td>0.0</td>\n",
              "      <td>1.0</td>\n",
              "      <td>0.0</td>\n",
              "      <td>0.0</td>\n",
              "      <td>0.0</td>\n",
              "      <td>0.0</td>\n",
              "      <td>0.0</td>\n",
              "      <td>...</td>\n",
              "      <td>0.0</td>\n",
              "      <td>0.0</td>\n",
              "      <td>0.0</td>\n",
              "      <td>0.0</td>\n",
              "      <td>0.0</td>\n",
              "      <td>0.0</td>\n",
              "      <td>0.0</td>\n",
              "      <td>0.0</td>\n",
              "      <td>1.0</td>\n",
              "      <td>0.0</td>\n",
              "    </tr>\n",
              "    <tr>\n",
              "      <th>2</th>\n",
              "      <td>0.0</td>\n",
              "      <td>0.0</td>\n",
              "      <td>1.0</td>\n",
              "      <td>0.0</td>\n",
              "      <td>1.0</td>\n",
              "      <td>0.0</td>\n",
              "      <td>0.0</td>\n",
              "      <td>0.0</td>\n",
              "      <td>0.0</td>\n",
              "      <td>0.0</td>\n",
              "      <td>...</td>\n",
              "      <td>0.0</td>\n",
              "      <td>0.0</td>\n",
              "      <td>0.0</td>\n",
              "      <td>0.0</td>\n",
              "      <td>0.0</td>\n",
              "      <td>0.0</td>\n",
              "      <td>0.0</td>\n",
              "      <td>0.0</td>\n",
              "      <td>1.0</td>\n",
              "      <td>0.0</td>\n",
              "    </tr>\n",
              "    <tr>\n",
              "      <th>3</th>\n",
              "      <td>0.0</td>\n",
              "      <td>0.0</td>\n",
              "      <td>0.0</td>\n",
              "      <td>1.0</td>\n",
              "      <td>0.0</td>\n",
              "      <td>0.0</td>\n",
              "      <td>1.0</td>\n",
              "      <td>0.0</td>\n",
              "      <td>0.0</td>\n",
              "      <td>0.0</td>\n",
              "      <td>...</td>\n",
              "      <td>0.0</td>\n",
              "      <td>0.0</td>\n",
              "      <td>0.0</td>\n",
              "      <td>0.0</td>\n",
              "      <td>0.0</td>\n",
              "      <td>0.0</td>\n",
              "      <td>0.0</td>\n",
              "      <td>0.0</td>\n",
              "      <td>0.0</td>\n",
              "      <td>0.0</td>\n",
              "    </tr>\n",
              "    <tr>\n",
              "      <th>4</th>\n",
              "      <td>0.0</td>\n",
              "      <td>0.0</td>\n",
              "      <td>0.0</td>\n",
              "      <td>1.0</td>\n",
              "      <td>0.0</td>\n",
              "      <td>0.0</td>\n",
              "      <td>1.0</td>\n",
              "      <td>0.0</td>\n",
              "      <td>0.0</td>\n",
              "      <td>0.0</td>\n",
              "      <td>...</td>\n",
              "      <td>0.0</td>\n",
              "      <td>0.0</td>\n",
              "      <td>0.0</td>\n",
              "      <td>0.0</td>\n",
              "      <td>0.0</td>\n",
              "      <td>0.0</td>\n",
              "      <td>0.0</td>\n",
              "      <td>0.0</td>\n",
              "      <td>0.0</td>\n",
              "      <td>0.0</td>\n",
              "    </tr>\n",
              "    <tr>\n",
              "      <th>...</th>\n",
              "      <td>...</td>\n",
              "      <td>...</td>\n",
              "      <td>...</td>\n",
              "      <td>...</td>\n",
              "      <td>...</td>\n",
              "      <td>...</td>\n",
              "      <td>...</td>\n",
              "      <td>...</td>\n",
              "      <td>...</td>\n",
              "      <td>...</td>\n",
              "      <td>...</td>\n",
              "      <td>...</td>\n",
              "      <td>...</td>\n",
              "      <td>...</td>\n",
              "      <td>...</td>\n",
              "      <td>...</td>\n",
              "      <td>...</td>\n",
              "      <td>...</td>\n",
              "      <td>...</td>\n",
              "      <td>...</td>\n",
              "      <td>...</td>\n",
              "    </tr>\n",
              "    <tr>\n",
              "      <th>3750</th>\n",
              "      <td>0.0</td>\n",
              "      <td>0.0</td>\n",
              "      <td>0.0</td>\n",
              "      <td>1.0</td>\n",
              "      <td>0.0</td>\n",
              "      <td>0.0</td>\n",
              "      <td>1.0</td>\n",
              "      <td>0.0</td>\n",
              "      <td>0.0</td>\n",
              "      <td>0.0</td>\n",
              "      <td>...</td>\n",
              "      <td>0.0</td>\n",
              "      <td>0.0</td>\n",
              "      <td>0.0</td>\n",
              "      <td>0.0</td>\n",
              "      <td>0.0</td>\n",
              "      <td>0.0</td>\n",
              "      <td>0.0</td>\n",
              "      <td>0.0</td>\n",
              "      <td>1.0</td>\n",
              "      <td>0.0</td>\n",
              "    </tr>\n",
              "    <tr>\n",
              "      <th>3751</th>\n",
              "      <td>0.0</td>\n",
              "      <td>0.0</td>\n",
              "      <td>1.0</td>\n",
              "      <td>0.0</td>\n",
              "      <td>0.0</td>\n",
              "      <td>0.0</td>\n",
              "      <td>1.0</td>\n",
              "      <td>0.0</td>\n",
              "      <td>0.0</td>\n",
              "      <td>0.0</td>\n",
              "      <td>...</td>\n",
              "      <td>0.0</td>\n",
              "      <td>0.0</td>\n",
              "      <td>0.0</td>\n",
              "      <td>0.0</td>\n",
              "      <td>0.0</td>\n",
              "      <td>0.0</td>\n",
              "      <td>0.0</td>\n",
              "      <td>0.0</td>\n",
              "      <td>1.0</td>\n",
              "      <td>0.0</td>\n",
              "    </tr>\n",
              "    <tr>\n",
              "      <th>3752</th>\n",
              "      <td>1.0</td>\n",
              "      <td>0.0</td>\n",
              "      <td>0.0</td>\n",
              "      <td>0.0</td>\n",
              "      <td>0.0</td>\n",
              "      <td>0.0</td>\n",
              "      <td>1.0</td>\n",
              "      <td>0.0</td>\n",
              "      <td>0.0</td>\n",
              "      <td>0.0</td>\n",
              "      <td>...</td>\n",
              "      <td>0.0</td>\n",
              "      <td>0.0</td>\n",
              "      <td>0.0</td>\n",
              "      <td>0.0</td>\n",
              "      <td>0.0</td>\n",
              "      <td>0.0</td>\n",
              "      <td>0.0</td>\n",
              "      <td>0.0</td>\n",
              "      <td>1.0</td>\n",
              "      <td>0.0</td>\n",
              "    </tr>\n",
              "    <tr>\n",
              "      <th>3753</th>\n",
              "      <td>1.0</td>\n",
              "      <td>0.0</td>\n",
              "      <td>0.0</td>\n",
              "      <td>0.0</td>\n",
              "      <td>1.0</td>\n",
              "      <td>0.0</td>\n",
              "      <td>0.0</td>\n",
              "      <td>0.0</td>\n",
              "      <td>0.0</td>\n",
              "      <td>0.0</td>\n",
              "      <td>...</td>\n",
              "      <td>0.0</td>\n",
              "      <td>0.0</td>\n",
              "      <td>0.0</td>\n",
              "      <td>0.0</td>\n",
              "      <td>0.0</td>\n",
              "      <td>0.0</td>\n",
              "      <td>0.0</td>\n",
              "      <td>0.0</td>\n",
              "      <td>1.0</td>\n",
              "      <td>0.0</td>\n",
              "    </tr>\n",
              "    <tr>\n",
              "      <th>3754</th>\n",
              "      <td>0.0</td>\n",
              "      <td>0.0</td>\n",
              "      <td>0.0</td>\n",
              "      <td>1.0</td>\n",
              "      <td>0.0</td>\n",
              "      <td>0.0</td>\n",
              "      <td>1.0</td>\n",
              "      <td>0.0</td>\n",
              "      <td>0.0</td>\n",
              "      <td>0.0</td>\n",
              "      <td>...</td>\n",
              "      <td>0.0</td>\n",
              "      <td>0.0</td>\n",
              "      <td>0.0</td>\n",
              "      <td>0.0</td>\n",
              "      <td>0.0</td>\n",
              "      <td>0.0</td>\n",
              "      <td>0.0</td>\n",
              "      <td>0.0</td>\n",
              "      <td>0.0</td>\n",
              "      <td>0.0</td>\n",
              "    </tr>\n",
              "  </tbody>\n",
              "</table>\n",
              "<p>3755 rows × 271 columns</p>\n",
              "</div>\n",
              "    <div class=\"colab-df-buttons\">\n",
              "\n",
              "  <div class=\"colab-df-container\">\n",
              "    <button class=\"colab-df-convert\" onclick=\"convertToInteractive('df-1902f93a-6365-43b2-8cae-f745d40377e9')\"\n",
              "            title=\"Convert this dataframe to an interactive table.\"\n",
              "            style=\"display:none;\">\n",
              "\n",
              "  <svg xmlns=\"http://www.w3.org/2000/svg\" height=\"24px\" viewBox=\"0 -960 960 960\">\n",
              "    <path d=\"M120-120v-720h720v720H120Zm60-500h600v-160H180v160Zm220 220h160v-160H400v160Zm0 220h160v-160H400v160ZM180-400h160v-160H180v160Zm440 0h160v-160H620v160ZM180-180h160v-160H180v160Zm440 0h160v-160H620v160Z\"/>\n",
              "  </svg>\n",
              "    </button>\n",
              "\n",
              "  <style>\n",
              "    .colab-df-container {\n",
              "      display:flex;\n",
              "      gap: 12px;\n",
              "    }\n",
              "\n",
              "    .colab-df-convert {\n",
              "      background-color: #E8F0FE;\n",
              "      border: none;\n",
              "      border-radius: 50%;\n",
              "      cursor: pointer;\n",
              "      display: none;\n",
              "      fill: #1967D2;\n",
              "      height: 32px;\n",
              "      padding: 0 0 0 0;\n",
              "      width: 32px;\n",
              "    }\n",
              "\n",
              "    .colab-df-convert:hover {\n",
              "      background-color: #E2EBFA;\n",
              "      box-shadow: 0px 1px 2px rgba(60, 64, 67, 0.3), 0px 1px 3px 1px rgba(60, 64, 67, 0.15);\n",
              "      fill: #174EA6;\n",
              "    }\n",
              "\n",
              "    .colab-df-buttons div {\n",
              "      margin-bottom: 4px;\n",
              "    }\n",
              "\n",
              "    [theme=dark] .colab-df-convert {\n",
              "      background-color: #3B4455;\n",
              "      fill: #D2E3FC;\n",
              "    }\n",
              "\n",
              "    [theme=dark] .colab-df-convert:hover {\n",
              "      background-color: #434B5C;\n",
              "      box-shadow: 0px 1px 3px 1px rgba(0, 0, 0, 0.15);\n",
              "      filter: drop-shadow(0px 1px 2px rgba(0, 0, 0, 0.3));\n",
              "      fill: #FFFFFF;\n",
              "    }\n",
              "  </style>\n",
              "\n",
              "    <script>\n",
              "      const buttonEl =\n",
              "        document.querySelector('#df-1902f93a-6365-43b2-8cae-f745d40377e9 button.colab-df-convert');\n",
              "      buttonEl.style.display =\n",
              "        google.colab.kernel.accessAllowed ? 'block' : 'none';\n",
              "\n",
              "      async function convertToInteractive(key) {\n",
              "        const element = document.querySelector('#df-1902f93a-6365-43b2-8cae-f745d40377e9');\n",
              "        const dataTable =\n",
              "          await google.colab.kernel.invokeFunction('convertToInteractive',\n",
              "                                                    [key], {});\n",
              "        if (!dataTable) return;\n",
              "\n",
              "        const docLinkHtml = 'Like what you see? Visit the ' +\n",
              "          '<a target=\"_blank\" href=https://colab.research.google.com/notebooks/data_table.ipynb>data table notebook</a>'\n",
              "          + ' to learn more about interactive tables.';\n",
              "        element.innerHTML = '';\n",
              "        dataTable['output_type'] = 'display_data';\n",
              "        await google.colab.output.renderOutput(dataTable, element);\n",
              "        const docLink = document.createElement('div');\n",
              "        docLink.innerHTML = docLinkHtml;\n",
              "        element.appendChild(docLink);\n",
              "      }\n",
              "    </script>\n",
              "  </div>\n",
              "\n",
              "\n",
              "<div id=\"df-8ffc2667-f774-41e5-92ae-d7118ce85f54\">\n",
              "  <button class=\"colab-df-quickchart\" onclick=\"quickchart('df-8ffc2667-f774-41e5-92ae-d7118ce85f54')\"\n",
              "            title=\"Suggest charts\"\n",
              "            style=\"display:none;\">\n",
              "\n",
              "<svg xmlns=\"http://www.w3.org/2000/svg\" height=\"24px\"viewBox=\"0 0 24 24\"\n",
              "     width=\"24px\">\n",
              "    <g>\n",
              "        <path d=\"M19 3H5c-1.1 0-2 .9-2 2v14c0 1.1.9 2 2 2h14c1.1 0 2-.9 2-2V5c0-1.1-.9-2-2-2zM9 17H7v-7h2v7zm4 0h-2V7h2v10zm4 0h-2v-4h2v4z\"/>\n",
              "    </g>\n",
              "</svg>\n",
              "  </button>\n",
              "\n",
              "<style>\n",
              "  .colab-df-quickchart {\n",
              "      --bg-color: #E8F0FE;\n",
              "      --fill-color: #1967D2;\n",
              "      --hover-bg-color: #E2EBFA;\n",
              "      --hover-fill-color: #174EA6;\n",
              "      --disabled-fill-color: #AAA;\n",
              "      --disabled-bg-color: #DDD;\n",
              "  }\n",
              "\n",
              "  [theme=dark] .colab-df-quickchart {\n",
              "      --bg-color: #3B4455;\n",
              "      --fill-color: #D2E3FC;\n",
              "      --hover-bg-color: #434B5C;\n",
              "      --hover-fill-color: #FFFFFF;\n",
              "      --disabled-bg-color: #3B4455;\n",
              "      --disabled-fill-color: #666;\n",
              "  }\n",
              "\n",
              "  .colab-df-quickchart {\n",
              "    background-color: var(--bg-color);\n",
              "    border: none;\n",
              "    border-radius: 50%;\n",
              "    cursor: pointer;\n",
              "    display: none;\n",
              "    fill: var(--fill-color);\n",
              "    height: 32px;\n",
              "    padding: 0;\n",
              "    width: 32px;\n",
              "  }\n",
              "\n",
              "  .colab-df-quickchart:hover {\n",
              "    background-color: var(--hover-bg-color);\n",
              "    box-shadow: 0 1px 2px rgba(60, 64, 67, 0.3), 0 1px 3px 1px rgba(60, 64, 67, 0.15);\n",
              "    fill: var(--button-hover-fill-color);\n",
              "  }\n",
              "\n",
              "  .colab-df-quickchart-complete:disabled,\n",
              "  .colab-df-quickchart-complete:disabled:hover {\n",
              "    background-color: var(--disabled-bg-color);\n",
              "    fill: var(--disabled-fill-color);\n",
              "    box-shadow: none;\n",
              "  }\n",
              "\n",
              "  .colab-df-spinner {\n",
              "    border: 2px solid var(--fill-color);\n",
              "    border-color: transparent;\n",
              "    border-bottom-color: var(--fill-color);\n",
              "    animation:\n",
              "      spin 1s steps(1) infinite;\n",
              "  }\n",
              "\n",
              "  @keyframes spin {\n",
              "    0% {\n",
              "      border-color: transparent;\n",
              "      border-bottom-color: var(--fill-color);\n",
              "      border-left-color: var(--fill-color);\n",
              "    }\n",
              "    20% {\n",
              "      border-color: transparent;\n",
              "      border-left-color: var(--fill-color);\n",
              "      border-top-color: var(--fill-color);\n",
              "    }\n",
              "    30% {\n",
              "      border-color: transparent;\n",
              "      border-left-color: var(--fill-color);\n",
              "      border-top-color: var(--fill-color);\n",
              "      border-right-color: var(--fill-color);\n",
              "    }\n",
              "    40% {\n",
              "      border-color: transparent;\n",
              "      border-right-color: var(--fill-color);\n",
              "      border-top-color: var(--fill-color);\n",
              "    }\n",
              "    60% {\n",
              "      border-color: transparent;\n",
              "      border-right-color: var(--fill-color);\n",
              "    }\n",
              "    80% {\n",
              "      border-color: transparent;\n",
              "      border-right-color: var(--fill-color);\n",
              "      border-bottom-color: var(--fill-color);\n",
              "    }\n",
              "    90% {\n",
              "      border-color: transparent;\n",
              "      border-bottom-color: var(--fill-color);\n",
              "    }\n",
              "  }\n",
              "</style>\n",
              "\n",
              "  <script>\n",
              "    async function quickchart(key) {\n",
              "      const quickchartButtonEl =\n",
              "        document.querySelector('#' + key + ' button');\n",
              "      quickchartButtonEl.disabled = true;  // To prevent multiple clicks.\n",
              "      quickchartButtonEl.classList.add('colab-df-spinner');\n",
              "      try {\n",
              "        const charts = await google.colab.kernel.invokeFunction(\n",
              "            'suggestCharts', [key], {});\n",
              "      } catch (error) {\n",
              "        console.error('Error during call to suggestCharts:', error);\n",
              "      }\n",
              "      quickchartButtonEl.classList.remove('colab-df-spinner');\n",
              "      quickchartButtonEl.classList.add('colab-df-quickchart-complete');\n",
              "    }\n",
              "    (() => {\n",
              "      let quickchartButtonEl =\n",
              "        document.querySelector('#df-8ffc2667-f774-41e5-92ae-d7118ce85f54 button');\n",
              "      quickchartButtonEl.style.display =\n",
              "        google.colab.kernel.accessAllowed ? 'block' : 'none';\n",
              "    })();\n",
              "  </script>\n",
              "</div>\n",
              "    </div>\n",
              "  </div>\n"
            ],
            "application/vnd.google.colaboratory.intrinsic+json": {
              "type": "dataframe",
              "variable_name": "data_categ_encode"
            }
          },
          "metadata": {},
          "execution_count": 393
        }
      ]
    },
    {
      "cell_type": "markdown",
      "source": [
        "## Анализ непрерывных данных"
      ],
      "metadata": {
        "id": "mrQa7XTNFdyJ"
      }
    },
    {
      "cell_type": "code",
      "source": [
        "import seaborn as sns\n",
        "\n",
        "encoder = LabelEncoder()\n",
        "\n",
        "data_cont = data.drop(categ_col, axis=1)\n",
        "y = data_cont['Target']\n",
        "data_cont.drop(['Target'], axis=1, inplace=True)\n",
        "\n",
        "fig = plt.figure(figsize=(20, 10))\n",
        "for ind, col in enumerate(data_cont.columns):\n",
        "  ax = fig.add_subplot(1, len(data_cont.columns), ind+1)\n",
        "  sns.boxplot(data_cont[col], ax=ax)\n",
        "\n",
        "fig.tight_layout()"
      ],
      "metadata": {
        "id": "LNHSEhCCD-N5",
        "colab": {
          "base_uri": "https://localhost:8080/",
          "height": 570
        },
        "outputId": "0ff94236-c48c-4a83-a3b4-8be15ca96523"
      },
      "execution_count": 394,
      "outputs": [
        {
          "output_type": "display_data",
          "data": {
            "text/plain": [
              "<Figure size 2000x1000 with 3 Axes>"
            ],
            "image/png": "[encoded data removed]"
          },
          "metadata": {}
        }
      ]
    },
    {
      "cell_type": "code",
      "source": [
        "data_cont['company_size'].unique()"
      ],
      "metadata": {
        "colab": {
          "base_uri": "https://localhost:8080/"
        },
        "id": "ON2J-bhm5TlX",
        "outputId": "64a025e9-100b-43f0-dc3e-98e9822934b8"
      },
      "execution_count": 395,
      "outputs": [
        {
          "output_type": "execute_result",
          "data": {
            "text/plain": [
              "array(['L', 'S', 'M'], dtype=object)"
            ]
          },
          "metadata": {},
          "execution_count": 395
        }
      ]
    },
    {
      "cell_type": "code",
      "source": [
        "mapping = {'L': 3, 'S': 1, 'M': 2}\n",
        "\n",
        "# Используем метод map() для замены значений в столбце\n",
        "data_cont['company_size'] = data_cont['company_size'].map(mapping)\n",
        "data_cont['company_size'].unique()"
      ],
      "metadata": {
        "colab": {
          "base_uri": "https://localhost:8080/"
        },
        "id": "F_JaZxeC4fg1",
        "outputId": "501b8cf1-577a-42e5-85df-f961d35b1f39"
      },
      "execution_count": 396,
      "outputs": [
        {
          "output_type": "execute_result",
          "data": {
            "text/plain": [
              "array([3, 1, 2])"
            ]
          },
          "metadata": {},
          "execution_count": 396
        }
      ]
    },
    {
      "cell_type": "code",
      "source": [
        "from sklearn.preprocessing import MinMaxScaler\n",
        "scaler = MinMaxScaler()\n",
        "data_cont_sd = pd.DataFrame(scaler.fit(data_cont).transform(data_cont), columns=scaler.get_feature_names_out())\n",
        "\n",
        "fig = plt.figure(figsize=(20, 10))\n",
        "for ind, col in enumerate(data_cont_sd.columns):\n",
        "  ax = fig.add_subplot(1, len(data_cont_sd.columns), ind+1)\n",
        "  sns.boxplot(data_cont_sd[col], ax=ax)\n",
        "\n",
        "fig.tight_layout()\n"
      ],
      "metadata": {
        "id": "25c9NbBjDIuw",
        "colab": {
          "base_uri": "https://localhost:8080/",
          "height": 570
        },
        "outputId": "cc6bfd55-07b4-42c7-ba89-29a99b37bd5c"
      },
      "execution_count": 397,
      "outputs": [
        {
          "output_type": "display_data",
          "data": {
            "text/plain": [
              "<Figure size 2000x1000 with 3 Axes>"
            ],
            "image/png": "[encoded data removed]"
          },
          "metadata": {}
        }
      ]
    },
    {
      "cell_type": "code",
      "source": [
        "corr = data_cont_sd.corr()\n",
        "\n",
        "cmap = sns.diverging_palette(5, 250, as_cmap=True)\n",
        "\n",
        "def magnify():\n",
        "    return [dict(selector=\"th\",\n",
        "                 props=[(\"font-size\", \"7pt\")]),\n",
        "            dict(selector=\"td\",\n",
        "                 props=[('padding', \"0em 0em\")]),\n",
        "            dict(selector=\"th:hover\",\n",
        "                 props=[(\"font-size\", \"12pt\")]),\n",
        "            dict(selector=\"tr:hover td:hover\",\n",
        "                 props=[('max-width', '200px'),\n",
        "                        ('font-size', '12pt')])\n",
        "]\n",
        "\n",
        "corr.style.background_gradient(cmap, axis=1)\\\n",
        "    .format(precision=3)\\\n",
        "    .set_properties(**{'max-width': '80px', 'font-size': '12pt'})\\\n",
        "    .set_caption(\"Корреляция непрерывных признаков\")\\\n",
        "    .set_table_styles(magnify())"
      ],
      "metadata": {
        "id": "R9Rla6roePZ9",
        "colab": {
          "base_uri": "https://localhost:8080/",
          "height": 119
        },
        "outputId": "276c6a94-190c-4bc9-b1a4-011fd3180219"
      },
      "execution_count": 398,
      "outputs": [
        {
          "output_type": "execute_result",
          "data": {
            "text/plain": [
              "<pandas.io.formats.style.Styler at 0x7d133ef82b90>"
            ],
            "text/html": [
              "<style type=\"text/css\">\n",
              "#T_deec7 th {\n",
              "  font-size: 7pt;\n",
              "}\n",
              "#T_deec7 td {\n",
              "  padding: 0em 0em;\n",
              "}\n",
              "#T_deec7 th:hover {\n",
              "  font-size: 12pt;\n",
              "}\n",
              "#T_deec7 tr:hover td:hover {\n",
              "  max-width: 200px;\n",
              "  font-size: 12pt;\n",
              "}\n",
              "#T_deec7_row0_col0, #T_deec7_row1_col1, #T_deec7_row2_col2 {\n",
              "  background-color: #4479bb;\n",
              "  color: #f1f1f1;\n",
              "  max-width: 80px;\n",
              "  font-size: 12pt;\n",
              "}\n",
              "#T_deec7_row0_col1, #T_deec7_row1_col0, #T_deec7_row2_col0 {\n",
              "  background-color: #d73c5b;\n",
              "  color: #f1f1f1;\n",
              "  max-width: 80px;\n",
              "  font-size: 12pt;\n",
              "}\n",
              "#T_deec7_row0_col2 {\n",
              "  background-color: #db5872;\n",
              "  color: #f1f1f1;\n",
              "  max-width: 80px;\n",
              "  font-size: 12pt;\n",
              "}\n",
              "#T_deec7_row1_col2 {\n",
              "  background-color: #e38b9d;\n",
              "  color: #f1f1f1;\n",
              "  max-width: 80px;\n",
              "  font-size: 12pt;\n",
              "}\n",
              "#T_deec7_row2_col1 {\n",
              "  background-color: #e07389;\n",
              "  color: #f1f1f1;\n",
              "  max-width: 80px;\n",
              "  font-size: 12pt;\n",
              "}\n",
              "</style>\n",
              "<table id=\"T_deec7\" class=\"dataframe\">\n",
              "  <caption>Корреляция непрерывных признаков</caption>\n",
              "  <thead>\n",
              "    <tr>\n",
              "      <th class=\"blank level0\" >&nbsp;</th>\n",
              "      <th id=\"T_deec7_level0_col0\" class=\"col_heading level0 col0\" >work_year</th>\n",
              "      <th id=\"T_deec7_level0_col1\" class=\"col_heading level0 col1\" >remote_ratio</th>\n",
              "      <th id=\"T_deec7_level0_col2\" class=\"col_heading level0 col2\" >company_size</th>\n",
              "    </tr>\n",
              "  </thead>\n",
              "  <tbody>\n",
              "    <tr>\n",
              "      <th id=\"T_deec7_level0_row0\" class=\"row_heading level0 row0\" >work_year</th>\n",
              "      <td id=\"T_deec7_row0_col0\" class=\"data row0 col0\" >1.000</td>\n",
              "      <td id=\"T_deec7_row0_col1\" class=\"data row0 col1\" >-0.236</td>\n",
              "      <td id=\"T_deec7_row0_col2\" class=\"data row0 col2\" >-0.139</td>\n",
              "    </tr>\n",
              "    <tr>\n",
              "      <th id=\"T_deec7_level0_row1\" class=\"row_heading level0 row1\" >remote_ratio</th>\n",
              "      <td id=\"T_deec7_row1_col0\" class=\"data row1 col0\" >-0.236</td>\n",
              "      <td id=\"T_deec7_row1_col1\" class=\"data row1 col1\" >1.000</td>\n",
              "      <td id=\"T_deec7_row1_col2\" class=\"data row1 col2\" >0.037</td>\n",
              "    </tr>\n",
              "    <tr>\n",
              "      <th id=\"T_deec7_level0_row2\" class=\"row_heading level0 row2\" >company_size</th>\n",
              "      <td id=\"T_deec7_row2_col0\" class=\"data row2 col0\" >-0.139</td>\n",
              "      <td id=\"T_deec7_row2_col1\" class=\"data row2 col1\" >0.037</td>\n",
              "      <td id=\"T_deec7_row2_col2\" class=\"data row2 col2\" >1.000</td>\n",
              "    </tr>\n",
              "  </tbody>\n",
              "</table>\n"
            ]
          },
          "metadata": {},
          "execution_count": 398
        }
      ]
    },
    {
      "cell_type": "markdown",
      "source": [
        "### Отлично, признаки мало коррелируют друг с другом"
      ],
      "metadata": {
        "id": "AkXdaPm3kE8B"
      }
    },
    {
      "cell_type": "markdown",
      "source": [
        "Превартим задачу регрессии в задачу классификации, для чего разделим целевую переменную на три интервала. (типо низкая, средняя и высокая зп). (определяем по среднему откланению)"
      ],
      "metadata": {
        "id": "OIVum0zJHqqi"
      }
    },
    {
      "cell_type": "code",
      "source": [
        "y_mean = y.mean()\n",
        "y_std = ((((y - y.mean())**2).sum())/y.size)**0.5"
      ],
      "metadata": {
        "id": "gw9HMJ6T_6UT"
      },
      "execution_count": 399,
      "outputs": []
    },
    {
      "cell_type": "code",
      "source": [
        "def for_apply(x):\n",
        "    if x < y_mean - y_std:\n",
        "      return 0\n",
        "    elif x > y_mean + y_std:\n",
        "      return 2\n",
        "    else:\n",
        "      return 1\n",
        "\n",
        "y = y.apply(for_apply)\n",
        "y"
      ],
      "metadata": {
        "colab": {
          "base_uri": "https://localhost:8080/",
          "height": 458
        },
        "id": "sy4gZRwXGbpg",
        "outputId": "516d34a5-0dea-431f-b8ce-e7026dd9ec9d"
      },
      "execution_count": 400,
      "outputs": [
        {
          "output_type": "execute_result",
          "data": {
            "text/plain": [
              "0       1\n",
              "1       0\n",
              "2       0\n",
              "3       1\n",
              "4       1\n",
              "       ..\n",
              "3750    2\n",
              "3751    1\n",
              "3752    1\n",
              "3753    1\n",
              "3754    1\n",
              "Name: Target, Length: 3755, dtype: int64"
            ],
            "text/html": [
              "<div>\n",
              "<style scoped>\n",
              "    .dataframe tbody tr th:only-of-type {\n",
              "        vertical-align: middle;\n",
              "    }\n",
              "\n",
              "    .dataframe tbody tr th {\n",
              "        vertical-align: top;\n",
              "    }\n",
              "\n",
              "    .dataframe thead th {\n",
              "        text-align: right;\n",
              "    }\n",
              "</style>\n",
              "<table border=\"1\" class=\"dataframe\">\n",
              "  <thead>\n",
              "    <tr style=\"text-align: right;\">\n",
              "      <th></th>\n",
              "      <th>Target</th>\n",
              "    </tr>\n",
              "  </thead>\n",
              "  <tbody>\n",
              "    <tr>\n",
              "      <th>0</th>\n",
              "      <td>1</td>\n",
              "    </tr>\n",
              "    <tr>\n",
              "      <th>1</th>\n",
              "      <td>0</td>\n",
              "    </tr>\n",
              "    <tr>\n",
              "      <th>2</th>\n",
              "      <td>0</td>\n",
              "    </tr>\n",
              "    <tr>\n",
              "      <th>3</th>\n",
              "      <td>1</td>\n",
              "    </tr>\n",
              "    <tr>\n",
              "      <th>4</th>\n",
              "      <td>1</td>\n",
              "    </tr>\n",
              "    <tr>\n",
              "      <th>...</th>\n",
              "      <td>...</td>\n",
              "    </tr>\n",
              "    <tr>\n",
              "      <th>3750</th>\n",
              "      <td>2</td>\n",
              "    </tr>\n",
              "    <tr>\n",
              "      <th>3751</th>\n",
              "      <td>1</td>\n",
              "    </tr>\n",
              "    <tr>\n",
              "      <th>3752</th>\n",
              "      <td>1</td>\n",
              "    </tr>\n",
              "    <tr>\n",
              "      <th>3753</th>\n",
              "      <td>1</td>\n",
              "    </tr>\n",
              "    <tr>\n",
              "      <th>3754</th>\n",
              "      <td>1</td>\n",
              "    </tr>\n",
              "  </tbody>\n",
              "</table>\n",
              "<p>3755 rows × 1 columns</p>\n",
              "</div><br><label><b>dtype:</b> int64</label>"
            ]
          },
          "metadata": {},
          "execution_count": 400
        }
      ]
    },
    {
      "cell_type": "code",
      "source": [
        "X = pd.concat([data_cont_sd, data_categ_encode], axis=1)\n",
        "pd.concat([X, y], axis=1)"
      ],
      "metadata": {
        "id": "v9RJi5PRL42Z",
        "colab": {
          "base_uri": "https://localhost:8080/",
          "height": 443
        },
        "outputId": "4d9e826b-6285-43eb-f85c-833d60d07dfc"
      },
      "execution_count": 401,
      "outputs": [
        {
          "output_type": "execute_result",
          "data": {
            "text/plain": [
              "      work_year  remote_ratio  company_size  experience_level_EN  \\\n",
              "0      1.000000           1.0           1.0                  0.0   \n",
              "1      1.000000           1.0           0.0                  0.0   \n",
              "2      1.000000           1.0           0.0                  0.0   \n",
              "3      1.000000           1.0           0.5                  0.0   \n",
              "4      1.000000           1.0           0.5                  0.0   \n",
              "...         ...           ...           ...                  ...   \n",
              "3750   0.000000           1.0           1.0                  0.0   \n",
              "3751   0.333333           1.0           1.0                  0.0   \n",
              "3752   0.000000           1.0           0.0                  1.0   \n",
              "3753   0.000000           1.0           1.0                  1.0   \n",
              "3754   0.333333           0.5           1.0                  0.0   \n",
              "\n",
              "      experience_level_EX  experience_level_MI  experience_level_SE  \\\n",
              "0                     0.0                  0.0                  1.0   \n",
              "1                     0.0                  1.0                  0.0   \n",
              "2                     0.0                  1.0                  0.0   \n",
              "3                     0.0                  0.0                  1.0   \n",
              "4                     0.0                  0.0                  1.0   \n",
              "...                   ...                  ...                  ...   \n",
              "3750                  0.0                  0.0                  1.0   \n",
              "3751                  0.0                  1.0                  0.0   \n",
              "3752                  0.0                  0.0                  0.0   \n",
              "3753                  0.0                  0.0                  0.0   \n",
              "3754                  0.0                  0.0                  1.0   \n",
              "\n",
              "      employment_type_CT  employment_type_FL  employment_type_FT  ...  \\\n",
              "0                    0.0                 0.0                 1.0  ...   \n",
              "1                    1.0                 0.0                 0.0  ...   \n",
              "2                    1.0                 0.0                 0.0  ...   \n",
              "3                    0.0                 0.0                 1.0  ...   \n",
              "4                    0.0                 0.0                 1.0  ...   \n",
              "...                  ...                 ...                 ...  ...   \n",
              "3750                 0.0                 0.0                 1.0  ...   \n",
              "3751                 0.0                 0.0                 1.0  ...   \n",
              "3752                 0.0                 0.0                 1.0  ...   \n",
              "3753                 1.0                 0.0                 0.0  ...   \n",
              "3754                 0.0                 0.0                 1.0  ...   \n",
              "\n",
              "      company_location_SE  company_location_SG  company_location_SI  \\\n",
              "0                     0.0                  0.0                  0.0   \n",
              "1                     0.0                  0.0                  0.0   \n",
              "2                     0.0                  0.0                  0.0   \n",
              "3                     0.0                  0.0                  0.0   \n",
              "4                     0.0                  0.0                  0.0   \n",
              "...                   ...                  ...                  ...   \n",
              "3750                  0.0                  0.0                  0.0   \n",
              "3751                  0.0                  0.0                  0.0   \n",
              "3752                  0.0                  0.0                  0.0   \n",
              "3753                  0.0                  0.0                  0.0   \n",
              "3754                  0.0                  0.0                  0.0   \n",
              "\n",
              "      company_location_SK  company_location_TH  company_location_TR  \\\n",
              "0                     0.0                  0.0                  0.0   \n",
              "1                     0.0                  0.0                  0.0   \n",
              "2                     0.0                  0.0                  0.0   \n",
              "3                     0.0                  0.0                  0.0   \n",
              "4                     0.0                  0.0                  0.0   \n",
              "...                   ...                  ...                  ...   \n",
              "3750                  0.0                  0.0                  0.0   \n",
              "3751                  0.0                  0.0                  0.0   \n",
              "3752                  0.0                  0.0                  0.0   \n",
              "3753                  0.0                  0.0                  0.0   \n",
              "3754                  0.0                  0.0                  0.0   \n",
              "\n",
              "      company_location_UA  company_location_US  company_location_VN  Target  \n",
              "0                     0.0                  0.0                  0.0       1  \n",
              "1                     0.0                  1.0                  0.0       0  \n",
              "2                     0.0                  1.0                  0.0       0  \n",
              "3                     0.0                  0.0                  0.0       1  \n",
              "4                     0.0                  0.0                  0.0       1  \n",
              "...                   ...                  ...                  ...     ...  \n",
              "3750                  0.0                  1.0                  0.0       2  \n",
              "3751                  0.0                  1.0                  0.0       1  \n",
              "3752                  0.0                  1.0                  0.0       1  \n",
              "3753                  0.0                  1.0                  0.0       1  \n",
              "3754                  0.0                  0.0                  0.0       1  \n",
              "\n",
              "[3755 rows x 275 columns]"
            ],
            "text/html": [
              "\n",
              "  <div id=\"df-ae71b788-9d97-472d-a050-df86bd8c69d2\" class=\"colab-df-container\">\n",
              "    <div>\n",
              "<style scoped>\n",
              "    .dataframe tbody tr th:only-of-type {\n",
              "        vertical-align: middle;\n",
              "    }\n",
              "\n",
              "    .dataframe tbody tr th {\n",
              "        vertical-align: top;\n",
              "    }\n",
              "\n",
              "    .dataframe thead th {\n",
              "        text-align: right;\n",
              "    }\n",
              "</style>\n",
              "<table border=\"1\" class=\"dataframe\">\n",
              "  <thead>\n",
              "    <tr style=\"text-align: right;\">\n",
              "      <th></th>\n",
              "      <th>work_year</th>\n",
              "      <th>remote_ratio</th>\n",
              "      <th>company_size</th>\n",
              "      <th>experience_level_EN</th>\n",
              "      <th>experience_level_EX</th>\n",
              "      <th>experience_level_MI</th>\n",
              "      <th>experience_level_SE</th>\n",
              "      <th>employment_type_CT</th>\n",
              "      <th>employment_type_FL</th>\n",
              "      <th>employment_type_FT</th>\n",
              "      <th>...</th>\n",
              "      <th>company_location_SE</th>\n",
              "      <th>company_location_SG</th>\n",
              "      <th>company_location_SI</th>\n",
              "      <th>company_location_SK</th>\n",
              "      <th>company_location_TH</th>\n",
              "      <th>company_location_TR</th>\n",
              "      <th>company_location_UA</th>\n",
              "      <th>company_location_US</th>\n",
              "      <th>company_location_VN</th>\n",
              "      <th>Target</th>\n",
              "    </tr>\n",
              "  </thead>\n",
              "  <tbody>\n",
              "    <tr>\n",
              "      <th>0</th>\n",
              "      <td>1.000000</td>\n",
              "      <td>1.0</td>\n",
              "      <td>1.0</td>\n",
              "      <td>0.0</td>\n",
              "      <td>0.0</td>\n",
              "      <td>0.0</td>\n",
              "      <td>1.0</td>\n",
              "      <td>0.0</td>\n",
              "      <td>0.0</td>\n",
              "      <td>1.0</td>\n",
              "      <td>...</td>\n",
              "      <td>0.0</td>\n",
              "      <td>0.0</td>\n",
              "      <td>0.0</td>\n",
              "      <td>0.0</td>\n",
              "      <td>0.0</td>\n",
              "      <td>0.0</td>\n",
              "      <td>0.0</td>\n",
              "      <td>0.0</td>\n",
              "      <td>0.0</td>\n",
              "      <td>1</td>\n",
              "    </tr>\n",
              "    <tr>\n",
              "      <th>1</th>\n",
              "      <td>1.000000</td>\n",
              "      <td>1.0</td>\n",
              "      <td>0.0</td>\n",
              "      <td>0.0</td>\n",
              "      <td>0.0</td>\n",
              "      <td>1.0</td>\n",
              "      <td>0.0</td>\n",
              "      <td>1.0</td>\n",
              "      <td>0.0</td>\n",
              "      <td>0.0</td>\n",
              "      <td>...</td>\n",
              "      <td>0.0</td>\n",
              "      <td>0.0</td>\n",
              "      <td>0.0</td>\n",
              "      <td>0.0</td>\n",
              "      <td>0.0</td>\n",
              "      <td>0.0</td>\n",
              "      <td>0.0</td>\n",
              "      <td>1.0</td>\n",
              "      <td>0.0</td>\n",
              "      <td>0</td>\n",
              "    </tr>\n",
              "    <tr>\n",
              "      <th>2</th>\n",
              "      <td>1.000000</td>\n",
              "      <td>1.0</td>\n",
              "      <td>0.0</td>\n",
              "      <td>0.0</td>\n",
              "      <td>0.0</td>\n",
              "      <td>1.0</td>\n",
              "      <td>0.0</td>\n",
              "      <td>1.0</td>\n",
              "      <td>0.0</td>\n",
              "      <td>0.0</td>\n",
              "      <td>...</td>\n",
              "      <td>0.0</td>\n",
              "      <td>0.0</td>\n",
              "      <td>0.0</td>\n",
              "      <td>0.0</td>\n",
              "      <td>0.0</td>\n",
              "      <td>0.0</td>\n",
              "      <td>0.0</td>\n",
              "      <td>1.0</td>\n",
              "      <td>0.0</td>\n",
              "      <td>0</td>\n",
              "    </tr>\n",
              "    <tr>\n",
              "      <th>3</th>\n",
              "      <td>1.000000</td>\n",
              "      <td>1.0</td>\n",
              "      <td>0.5</td>\n",
              "      <td>0.0</td>\n",
              "      <td>0.0</td>\n",
              "      <td>0.0</td>\n",
              "      <td>1.0</td>\n",
              "      <td>0.0</td>\n",
              "      <td>0.0</td>\n",
              "      <td>1.0</td>\n",
              "      <td>...</td>\n",
              "      <td>0.0</td>\n",
              "      <td>0.0</td>\n",
              "      <td>0.0</td>\n",
              "      <td>0.0</td>\n",
              "      <td>0.0</td>\n",
              "      <td>0.0</td>\n",
              "      <td>0.0</td>\n",
              "      <td>0.0</td>\n",
              "      <td>0.0</td>\n",
              "      <td>1</td>\n",
              "    </tr>\n",
              "    <tr>\n",
              "      <th>4</th>\n",
              "      <td>1.000000</td>\n",
              "      <td>1.0</td>\n",
              "      <td>0.5</td>\n",
              "      <td>0.0</td>\n",
              "      <td>0.0</td>\n",
              "      <td>0.0</td>\n",
              "      <td>1.0</td>\n",
              "      <td>0.0</td>\n",
              "      <td>0.0</td>\n",
              "      <td>1.0</td>\n",
              "      <td>...</td>\n",
              "      <td>0.0</td>\n",
              "      <td>0.0</td>\n",
              "      <td>0.0</td>\n",
              "      <td>0.0</td>\n",
              "      <td>0.0</td>\n",
              "      <td>0.0</td>\n",
              "      <td>0.0</td>\n",
              "      <td>0.0</td>\n",
              "      <td>0.0</td>\n",
              "      <td>1</td>\n",
              "    </tr>\n",
              "    <tr>\n",
              "      <th>...</th>\n",
              "      <td>...</td>\n",
              "      <td>...</td>\n",
              "      <td>...</td>\n",
              "      <td>...</td>\n",
              "      <td>...</td>\n",
              "      <td>...</td>\n",
              "      <td>...</td>\n",
              "      <td>...</td>\n",
              "      <td>...</td>\n",
              "      <td>...</td>\n",
              "      <td>...</td>\n",
              "      <td>...</td>\n",
              "      <td>...</td>\n",
              "      <td>...</td>\n",
              "      <td>...</td>\n",
              "      <td>...</td>\n",
              "      <td>...</td>\n",
              "      <td>...</td>\n",
              "      <td>...</td>\n",
              "      <td>...</td>\n",
              "      <td>...</td>\n",
              "    </tr>\n",
              "    <tr>\n",
              "      <th>3750</th>\n",
              "      <td>0.000000</td>\n",
              "      <td>1.0</td>\n",
              "      <td>1.0</td>\n",
              "      <td>0.0</td>\n",
              "      <td>0.0</td>\n",
              "      <td>0.0</td>\n",
              "      <td>1.0</td>\n",
              "      <td>0.0</td>\n",
              "      <td>0.0</td>\n",
              "      <td>1.0</td>\n",
              "      <td>...</td>\n",
              "      <td>0.0</td>\n",
              "      <td>0.0</td>\n",
              "      <td>0.0</td>\n",
              "      <td>0.0</td>\n",
              "      <td>0.0</td>\n",
              "      <td>0.0</td>\n",
              "      <td>0.0</td>\n",
              "      <td>1.0</td>\n",
              "      <td>0.0</td>\n",
              "      <td>2</td>\n",
              "    </tr>\n",
              "    <tr>\n",
              "      <th>3751</th>\n",
              "      <td>0.333333</td>\n",
              "      <td>1.0</td>\n",
              "      <td>1.0</td>\n",
              "      <td>0.0</td>\n",
              "      <td>0.0</td>\n",
              "      <td>1.0</td>\n",
              "      <td>0.0</td>\n",
              "      <td>0.0</td>\n",
              "      <td>0.0</td>\n",
              "      <td>1.0</td>\n",
              "      <td>...</td>\n",
              "      <td>0.0</td>\n",
              "      <td>0.0</td>\n",
              "      <td>0.0</td>\n",
              "      <td>0.0</td>\n",
              "      <td>0.0</td>\n",
              "      <td>0.0</td>\n",
              "      <td>0.0</td>\n",
              "      <td>1.0</td>\n",
              "      <td>0.0</td>\n",
              "      <td>1</td>\n",
              "    </tr>\n",
              "    <tr>\n",
              "      <th>3752</th>\n",
              "      <td>0.000000</td>\n",
              "      <td>1.0</td>\n",
              "      <td>0.0</td>\n",
              "      <td>1.0</td>\n",
              "      <td>0.0</td>\n",
              "      <td>0.0</td>\n",
              "      <td>0.0</td>\n",
              "      <td>0.0</td>\n",
              "      <td>0.0</td>\n",
              "      <td>1.0</td>\n",
              "      <td>...</td>\n",
              "      <td>0.0</td>\n",
              "      <td>0.0</td>\n",
              "      <td>0.0</td>\n",
              "      <td>0.0</td>\n",
              "      <td>0.0</td>\n",
              "      <td>0.0</td>\n",
              "      <td>0.0</td>\n",
              "      <td>1.0</td>\n",
              "      <td>0.0</td>\n",
              "      <td>1</td>\n",
              "    </tr>\n",
              "    <tr>\n",
              "      <th>3753</th>\n",
              "      <td>0.000000</td>\n",
              "      <td>1.0</td>\n",
              "      <td>1.0</td>\n",
              "      <td>1.0</td>\n",
              "      <td>0.0</td>\n",
              "      <td>0.0</td>\n",
              "      <td>0.0</td>\n",
              "      <td>1.0</td>\n",
              "      <td>0.0</td>\n",
              "      <td>0.0</td>\n",
              "      <td>...</td>\n",
              "      <td>0.0</td>\n",
              "      <td>0.0</td>\n",
              "      <td>0.0</td>\n",
              "      <td>0.0</td>\n",
              "      <td>0.0</td>\n",
              "      <td>0.0</td>\n",
              "      <td>0.0</td>\n",
              "      <td>1.0</td>\n",
              "      <td>0.0</td>\n",
              "      <td>1</td>\n",
              "    </tr>\n",
              "    <tr>\n",
              "      <th>3754</th>\n",
              "      <td>0.333333</td>\n",
              "      <td>0.5</td>\n",
              "      <td>1.0</td>\n",
              "      <td>0.0</td>\n",
              "      <td>0.0</td>\n",
              "      <td>0.0</td>\n",
              "      <td>1.0</td>\n",
              "      <td>0.0</td>\n",
              "      <td>0.0</td>\n",
              "      <td>1.0</td>\n",
              "      <td>...</td>\n",
              "      <td>0.0</td>\n",
              "      <td>0.0</td>\n",
              "      <td>0.0</td>\n",
              "      <td>0.0</td>\n",
              "      <td>0.0</td>\n",
              "      <td>0.0</td>\n",
              "      <td>0.0</td>\n",
              "      <td>0.0</td>\n",
              "      <td>0.0</td>\n",
              "      <td>1</td>\n",
              "    </tr>\n",
              "  </tbody>\n",
              "</table>\n",
              "<p>3755 rows × 275 columns</p>\n",
              "</div>\n",
              "    <div class=\"colab-df-buttons\">\n",
              "\n",
              "  <div class=\"colab-df-container\">\n",
              "    <button class=\"colab-df-convert\" onclick=\"convertToInteractive('df-ae71b788-9d97-472d-a050-df86bd8c69d2')\"\n",
              "            title=\"Convert this dataframe to an interactive table.\"\n",
              "            style=\"display:none;\">\n",
              "\n",
              "  <svg xmlns=\"http://www.w3.org/2000/svg\" height=\"24px\" viewBox=\"0 -960 960 960\">\n",
              "    <path d=\"M120-120v-720h720v720H120Zm60-500h600v-160H180v160Zm220 220h160v-160H400v160Zm0 220h160v-160H400v160ZM180-400h160v-160H180v160Zm440 0h160v-160H620v160ZM180-180h160v-160H180v160Zm440 0h160v-160H620v160Z\"/>\n",
              "  </svg>\n",
              "    </button>\n",
              "\n",
              "  <style>\n",
              "    .colab-df-container {\n",
              "      display:flex;\n",
              "      gap: 12px;\n",
              "    }\n",
              "\n",
              "    .colab-df-convert {\n",
              "      background-color: #E8F0FE;\n",
              "      border: none;\n",
              "      border-radius: 50%;\n",
              "      cursor: pointer;\n",
              "      display: none;\n",
              "      fill: #1967D2;\n",
              "      height: 32px;\n",
              "      padding: 0 0 0 0;\n",
              "      width: 32px;\n",
              "    }\n",
              "\n",
              "    .colab-df-convert:hover {\n",
              "      background-color: #E2EBFA;\n",
              "      box-shadow: 0px 1px 2px rgba(60, 64, 67, 0.3), 0px 1px 3px 1px rgba(60, 64, 67, 0.15);\n",
              "      fill: #174EA6;\n",
              "    }\n",
              "\n",
              "    .colab-df-buttons div {\n",
              "      margin-bottom: 4px;\n",
              "    }\n",
              "\n",
              "    [theme=dark] .colab-df-convert {\n",
              "      background-color: #3B4455;\n",
              "      fill: #D2E3FC;\n",
              "    }\n",
              "\n",
              "    [theme=dark] .colab-df-convert:hover {\n",
              "      background-color: #434B5C;\n",
              "      box-shadow: 0px 1px 3px 1px rgba(0, 0, 0, 0.15);\n",
              "      filter: drop-shadow(0px 1px 2px rgba(0, 0, 0, 0.3));\n",
              "      fill: #FFFFFF;\n",
              "    }\n",
              "  </style>\n",
              "\n",
              "    <script>\n",
              "      const buttonEl =\n",
              "        document.querySelector('#df-ae71b788-9d97-472d-a050-df86bd8c69d2 button.colab-df-convert');\n",
              "      buttonEl.style.display =\n",
              "        google.colab.kernel.accessAllowed ? 'block' : 'none';\n",
              "\n",
              "      async function convertToInteractive(key) {\n",
              "        const element = document.querySelector('#df-ae71b788-9d97-472d-a050-df86bd8c69d2');\n",
              "        const dataTable =\n",
              "          await google.colab.kernel.invokeFunction('convertToInteractive',\n",
              "                                                    [key], {});\n",
              "        if (!dataTable) return;\n",
              "\n",
              "        const docLinkHtml = 'Like what you see? Visit the ' +\n",
              "          '<a target=\"_blank\" href=https://colab.research.google.com/notebooks/data_table.ipynb>data table notebook</a>'\n",
              "          + ' to learn more about interactive tables.';\n",
              "        element.innerHTML = '';\n",
              "        dataTable['output_type'] = 'display_data';\n",
              "        await google.colab.output.renderOutput(dataTable, element);\n",
              "        const docLink = document.createElement('div');\n",
              "        docLink.innerHTML = docLinkHtml;\n",
              "        element.appendChild(docLink);\n",
              "      }\n",
              "    </script>\n",
              "  </div>\n",
              "\n",
              "\n",
              "<div id=\"df-eb0378ff-726f-4105-a5ed-06fceec7d83b\">\n",
              "  <button class=\"colab-df-quickchart\" onclick=\"quickchart('df-eb0378ff-726f-4105-a5ed-06fceec7d83b')\"\n",
              "            title=\"Suggest charts\"\n",
              "            style=\"display:none;\">\n",
              "\n",
              "<svg xmlns=\"http://www.w3.org/2000/svg\" height=\"24px\"viewBox=\"0 0 24 24\"\n",
              "     width=\"24px\">\n",
              "    <g>\n",
              "        <path d=\"M19 3H5c-1.1 0-2 .9-2 2v14c0 1.1.9 2 2 2h14c1.1 0 2-.9 2-2V5c0-1.1-.9-2-2-2zM9 17H7v-7h2v7zm4 0h-2V7h2v10zm4 0h-2v-4h2v4z\"/>\n",
              "    </g>\n",
              "</svg>\n",
              "  </button>\n",
              "\n",
              "<style>\n",
              "  .colab-df-quickchart {\n",
              "      --bg-color: #E8F0FE;\n",
              "      --fill-color: #1967D2;\n",
              "      --hover-bg-color: #E2EBFA;\n",
              "      --hover-fill-color: #174EA6;\n",
              "      --disabled-fill-color: #AAA;\n",
              "      --disabled-bg-color: #DDD;\n",
              "  }\n",
              "\n",
              "  [theme=dark] .colab-df-quickchart {\n",
              "      --bg-color: #3B4455;\n",
              "      --fill-color: #D2E3FC;\n",
              "      --hover-bg-color: #434B5C;\n",
              "      --hover-fill-color: #FFFFFF;\n",
              "      --disabled-bg-color: #3B4455;\n",
              "      --disabled-fill-color: #666;\n",
              "  }\n",
              "\n",
              "  .colab-df-quickchart {\n",
              "    background-color: var(--bg-color);\n",
              "    border: none;\n",
              "    border-radius: 50%;\n",
              "    cursor: pointer;\n",
              "    display: none;\n",
              "    fill: var(--fill-color);\n",
              "    height: 32px;\n",
              "    padding: 0;\n",
              "    width: 32px;\n",
              "  }\n",
              "\n",
              "  .colab-df-quickchart:hover {\n",
              "    background-color: var(--hover-bg-color);\n",
              "    box-shadow: 0 1px 2px rgba(60, 64, 67, 0.3), 0 1px 3px 1px rgba(60, 64, 67, 0.15);\n",
              "    fill: var(--button-hover-fill-color);\n",
              "  }\n",
              "\n",
              "  .colab-df-quickchart-complete:disabled,\n",
              "  .colab-df-quickchart-complete:disabled:hover {\n",
              "    background-color: var(--disabled-bg-color);\n",
              "    fill: var(--disabled-fill-color);\n",
              "    box-shadow: none;\n",
              "  }\n",
              "\n",
              "  .colab-df-spinner {\n",
              "    border: 2px solid var(--fill-color);\n",
              "    border-color: transparent;\n",
              "    border-bottom-color: var(--fill-color);\n",
              "    animation:\n",
              "      spin 1s steps(1) infinite;\n",
              "  }\n",
              "\n",
              "  @keyframes spin {\n",
              "    0% {\n",
              "      border-color: transparent;\n",
              "      border-bottom-color: var(--fill-color);\n",
              "      border-left-color: var(--fill-color);\n",
              "    }\n",
              "    20% {\n",
              "      border-color: transparent;\n",
              "      border-left-color: var(--fill-color);\n",
              "      border-top-color: var(--fill-color);\n",
              "    }\n",
              "    30% {\n",
              "      border-color: transparent;\n",
              "      border-left-color: var(--fill-color);\n",
              "      border-top-color: var(--fill-color);\n",
              "      border-right-color: var(--fill-color);\n",
              "    }\n",
              "    40% {\n",
              "      border-color: transparent;\n",
              "      border-right-color: var(--fill-color);\n",
              "      border-top-color: var(--fill-color);\n",
              "    }\n",
              "    60% {\n",
              "      border-color: transparent;\n",
              "      border-right-color: var(--fill-color);\n",
              "    }\n",
              "    80% {\n",
              "      border-color: transparent;\n",
              "      border-right-color: var(--fill-color);\n",
              "      border-bottom-color: var(--fill-color);\n",
              "    }\n",
              "    90% {\n",
              "      border-color: transparent;\n",
              "      border-bottom-color: var(--fill-color);\n",
              "    }\n",
              "  }\n",
              "</style>\n",
              "\n",
              "  <script>\n",
              "    async function quickchart(key) {\n",
              "      const quickchartButtonEl =\n",
              "        document.querySelector('#' + key + ' button');\n",
              "      quickchartButtonEl.disabled = true;  // To prevent multiple clicks.\n",
              "      quickchartButtonEl.classList.add('colab-df-spinner');\n",
              "      try {\n",
              "        const charts = await google.colab.kernel.invokeFunction(\n",
              "            'suggestCharts', [key], {});\n",
              "      } catch (error) {\n",
              "        console.error('Error during call to suggestCharts:', error);\n",
              "      }\n",
              "      quickchartButtonEl.classList.remove('colab-df-spinner');\n",
              "      quickchartButtonEl.classList.add('colab-df-quickchart-complete');\n",
              "    }\n",
              "    (() => {\n",
              "      let quickchartButtonEl =\n",
              "        document.querySelector('#df-eb0378ff-726f-4105-a5ed-06fceec7d83b button');\n",
              "      quickchartButtonEl.style.display =\n",
              "        google.colab.kernel.accessAllowed ? 'block' : 'none';\n",
              "    })();\n",
              "  </script>\n",
              "</div>\n",
              "    </div>\n",
              "  </div>\n"
            ],
            "application/vnd.google.colaboratory.intrinsic+json": {
              "type": "dataframe"
            }
          },
          "metadata": {},
          "execution_count": 401
        }
      ]
    },
    {
      "cell_type": "code",
      "source": [
        "X1 = X.copy()\n",
        "y1 = y.copy()\n",
        "X = X.values\n",
        "y = y.values"
      ],
      "metadata": {
        "id": "P00nf_iENBGl"
      },
      "execution_count": 402,
      "outputs": []
    },
    {
      "cell_type": "code",
      "source": [
        "from sklearn.utils.class_weight import compute_class_weight\n",
        "class_weights = compute_class_weight(class_weight='balanced', classes=[0, 1, 2], y=y)\n",
        "class_weights"
      ],
      "metadata": {
        "colab": {
          "base_uri": "https://localhost:8080/"
        },
        "id": "d_iGtNxxMOI6",
        "outputId": "cceb38a4-397d-4809-af68-81f6ae826f2b"
      },
      "execution_count": 403,
      "outputs": [
        {
          "output_type": "execute_result",
          "data": {
            "text/plain": [
              "array([2.10011186, 0.475738  , 2.37058081])"
            ]
          },
          "metadata": {},
          "execution_count": 403
        }
      ]
    },
    {
      "cell_type": "code",
      "source": [
        "class_weights = np.array([x for x in class_weights], dtype=np.float32)\n",
        "type(class_weights[0])"
      ],
      "metadata": {
        "colab": {
          "base_uri": "https://localhost:8080/"
        },
        "id": "uqAXzmX7dNWb",
        "outputId": "f5370ab2-7ceb-4e29-a41c-c62180ab2904"
      },
      "execution_count": 404,
      "outputs": [
        {
          "output_type": "execute_result",
          "data": {
            "text/plain": [
              "numpy.float32"
            ]
          },
          "metadata": {},
          "execution_count": 404
        }
      ]
    },
    {
      "cell_type": "code",
      "source": [
        "from sklearn.model_selection import train_test_split\n",
        "X_train, X_dum, y_train, y_dum=train_test_split(X, y, test_size=0.3)\n",
        "X_val, X_test, y_val, y_test= train_test_split(X_dum, y_dum ,test_size=0.5)"
      ],
      "metadata": {
        "id": "fw7jLVNAm0IW"
      },
      "execution_count": 405,
      "outputs": []
    },
    {
      "cell_type": "code",
      "source": [
        "import torch\n",
        "import torch.optim as optim\n",
        "import torch.nn as nn\n",
        "from torch.utils.data import Dataset, TensorDataset, DataLoader\n",
        "import torchvision.transforms as T"
      ],
      "metadata": {
        "id": "iWeBhQGcuujm"
      },
      "execution_count": 406,
      "outputs": []
    },
    {
      "cell_type": "code",
      "source": [
        "device = 'cuda' if torch.cuda.is_available() else 'cpu' # вычисления на графическом процессоре, если возможно\n",
        "device"
      ],
      "metadata": {
        "id": "mBM5k6SHCcb7",
        "colab": {
          "base_uri": "https://localhost:8080/",
          "height": 36
        },
        "outputId": "94cae222-15f9-404c-906e-ab4146006830"
      },
      "execution_count": 407,
      "outputs": [
        {
          "output_type": "execute_result",
          "data": {
            "text/plain": [
              "'cpu'"
            ],
            "application/vnd.google.colaboratory.intrinsic+json": {
              "type": "string"
            }
          },
          "metadata": {},
          "execution_count": 407
        }
      ]
    },
    {
      "cell_type": "code",
      "source": [
        "class MyDataset(Dataset):\n",
        "  def __init__(self, data, targets, transform=None):\n",
        "      self.data = torch.Tensor(data)\n",
        "      self.targets = torch.LongTensor(targets)\n",
        "      self.transform = transform\n",
        "\n",
        "  def __getitem__(self, index):\n",
        "      x = self.data[index]\n",
        "      y = self.targets[index]\n",
        "      return x, y\n",
        "\n",
        "  def get_labels(self):\n",
        "    return self.targets\n",
        "\n",
        "  def __len__(self):\n",
        "      return len(self.data)"
      ],
      "metadata": {
        "id": "vR4DSTfECcy1"
      },
      "execution_count": 408,
      "outputs": []
    },
    {
      "cell_type": "code",
      "source": [
        "train_dataset=MyDataset(X_train,y_train)\n",
        "val_dataset=MyDataset(X_val,y_val)\n",
        "test_dataset=MyDataset(X_test,y_test)"
      ],
      "metadata": {
        "id": "N9Y-MxiwJgt1"
      },
      "execution_count": 409,
      "outputs": []
    },
    {
      "cell_type": "code",
      "source": [
        "print(f'''Длина тестовой выборки: {len(test_dataset)}\n",
        "Длина валидационной выборки: {len(val_dataset)}\n",
        "Длина тренировочной выборки: {len(train_dataset)}''')"
      ],
      "metadata": {
        "id": "EsApE9VGJ6h6",
        "colab": {
          "base_uri": "https://localhost:8080/"
        },
        "outputId": "1c1e817a-bb84-4c6f-89a8-4b81870912b1"
      },
      "execution_count": 410,
      "outputs": [
        {
          "output_type": "stream",
          "name": "stdout",
          "text": [
            "Длина тестовой выборки: 564\n",
            "Длина валидационной выборки: 563\n",
            "Длина тренировочной выборки: 2628\n"
          ]
        }
      ]
    },
    {
      "cell_type": "code",
      "source": [
        "!pip install torchsampler"
      ],
      "metadata": {
        "id": "UCZ1bu9ZJ7aG",
        "colab": {
          "base_uri": "https://localhost:8080/"
        },
        "outputId": "41b2ca6b-6ac8-47b0-e3dd-d8ab4e68ae1f",
        "collapsed": true
      },
      "execution_count": 411,
      "outputs": [
        {
          "output_type": "stream",
          "name": "stdout",
          "text": [
            "Requirement already satisfied: torchsampler in /usr/local/lib/python3.10/dist-packages (0.1.2)\n",
            "Requirement already satisfied: torch>=1.3 in /usr/local/lib/python3.10/dist-packages (from torchsampler) (2.4.0+cu121)\n",
            "Requirement already satisfied: torchvision>=0.5 in /usr/local/lib/python3.10/dist-packages (from torchsampler) (0.19.0+cu121)\n",
            "Requirement already satisfied: pandas in /usr/local/lib/python3.10/dist-packages (from torchsampler) (2.1.4)\n",
            "Requirement already satisfied: filelock in /usr/local/lib/python3.10/dist-packages (from torch>=1.3->torchsampler) (3.15.4)\n",
            "Requirement already satisfied: typing-extensions>=4.8.0 in /usr/local/lib/python3.10/dist-packages (from torch>=1.3->torchsampler) (4.12.2)\n",
            "Requirement already satisfied: sympy in /usr/local/lib/python3.10/dist-packages (from torch>=1.3->torchsampler) (1.13.2)\n",
            "Requirement already satisfied: networkx in /usr/local/lib/python3.10/dist-packages (from torch>=1.3->torchsampler) (3.3)\n",
            "Requirement already satisfied: jinja2 in /usr/local/lib/python3.10/dist-packages (from torch>=1.3->torchsampler) (3.1.4)\n",
            "Requirement already satisfied: fsspec in /usr/local/lib/python3.10/dist-packages (from torch>=1.3->torchsampler) (2024.6.1)\n",
            "Requirement already satisfied: numpy in /usr/local/lib/python3.10/dist-packages (from torchvision>=0.5->torchsampler) (1.26.4)\n",
            "Requirement already satisfied: pillow!=8.3.*,>=5.3.0 in /usr/local/lib/python3.10/dist-packages (from torchvision>=0.5->torchsampler) (9.4.0)\n",
            "Requirement already satisfied: python-dateutil>=2.8.2 in /usr/local/lib/python3.10/dist-packages (from pandas->torchsampler) (2.8.2)\n",
            "Requirement already satisfied: pytz>=2020.1 in /usr/local/lib/python3.10/dist-packages (from pandas->torchsampler) (2024.1)\n",
            "Requirement already satisfied: tzdata>=2022.1 in /usr/local/lib/python3.10/dist-packages (from pandas->torchsampler) (2024.1)\n",
            "Requirement already satisfied: six>=1.5 in /usr/local/lib/python3.10/dist-packages (from python-dateutil>=2.8.2->pandas->torchsampler) (1.16.0)\n",
            "Requirement already satisfied: MarkupSafe>=2.0 in /usr/local/lib/python3.10/dist-packages (from jinja2->torch>=1.3->torchsampler) (2.1.5)\n",
            "Requirement already satisfied: mpmath<1.4,>=1.1.0 in /usr/local/lib/python3.10/dist-packages (from sympy->torch>=1.3->torchsampler) (1.3.0)\n"
          ]
        }
      ]
    },
    {
      "cell_type": "code",
      "source": [
        "from torchsampler import ImbalancedDatasetSampler"
      ],
      "metadata": {
        "id": "51jHcd4_KCU0"
      },
      "execution_count": 412,
      "outputs": []
    },
    {
      "cell_type": "code",
      "source": [
        "batch_size=32 # размер пакета\n",
        "train_loader = DataLoader(train_dataset, batch_size=batch_size,shuffle=False,\n",
        "                          sampler=ImbalancedDatasetSampler(train_dataset))\n",
        "val_loader = DataLoader(val_dataset, batch_size=batch_size,shuffle=True)\n",
        "test_loader = DataLoader(test_dataset, batch_size=batch_size,shuffle=True)"
      ],
      "metadata": {
        "id": "iN3W5WJsKIMJ"
      },
      "execution_count": 413,
      "outputs": []
    },
    {
      "cell_type": "code",
      "source": [
        "class Classification_Model_FFNN(nn.Module):\n",
        "  def __init__(self, num_inputs, num_classes):\n",
        "      super(Classification_Model_FFNN, self).__init__()\n",
        "      self.pipe = nn.Sequential(\n",
        "          nn.Linear(num_inputs, 128, bias=False),\n",
        "          nn.ReLU6(inplace=True),\n",
        "          nn.BatchNorm1d(128),\n",
        "\n",
        "          nn.Linear(128, 128, bias=False),\n",
        "          nn.ReLU6(inplace=True),\n",
        "          nn.BatchNorm1d(128),\n",
        "\n",
        "          nn.Linear(128, 128, bias=False),\n",
        "          nn.ReLU6(inplace=True),\n",
        "          nn.BatchNorm1d(128),\n",
        "\n",
        "          nn.Linear(128, 64, bias=False),\n",
        "          nn.ReLU6(inplace=True),\n",
        "          nn.BatchNorm1d(64),\n",
        "\n",
        "          nn.Linear(64, 3))\n",
        "\n",
        "  def forward(self, x):\n",
        "      return self.pipe(x)"
      ],
      "metadata": {
        "id": "CJDJzYVfKd11"
      },
      "execution_count": 414,
      "outputs": []
    },
    {
      "cell_type": "code",
      "source": [
        "model=Classification_Model_FFNN(len(X[0]), len(set(y)))\n",
        "model.to(device);"
      ],
      "metadata": {
        "id": "gUEPttv8K_HK"
      },
      "execution_count": 415,
      "outputs": []
    },
    {
      "cell_type": "code",
      "source": [
        "! pip install torchinfo"
      ],
      "metadata": {
        "colab": {
          "base_uri": "https://localhost:8080/"
        },
        "id": "oKVbBw0NYs1K",
        "outputId": "c108ff07-bc1e-4e78-c15f-021355094ad7"
      },
      "execution_count": 416,
      "outputs": [
        {
          "output_type": "stream",
          "name": "stdout",
          "text": [
            "Requirement already satisfied: torchinfo in /usr/local/lib/python3.10/dist-packages (1.8.0)\n"
          ]
        }
      ]
    },
    {
      "cell_type": "code",
      "source": [
        "from torchinfo import summary\n",
        "summary(model,input_size=(1, len(X[0])))"
      ],
      "metadata": {
        "id": "MjZi6DsfLaka",
        "colab": {
          "base_uri": "https://localhost:8080/"
        },
        "outputId": "7f88cd14-8708-4070-e151-5f5b98b6b0d0"
      },
      "execution_count": 417,
      "outputs": [
        {
          "output_type": "execute_result",
          "data": {
            "text/plain": [
              "==========================================================================================\n",
              "Layer (type:depth-idx)                   Output Shape              Param #\n",
              "==========================================================================================\n",
              "Classification_Model_FFNN                [1, 3]                    --\n",
              "├─Sequential: 1-1                        [1, 3]                    --\n",
              "│    └─Linear: 2-1                       [1, 128]                  35,072\n",
              "│    └─ReLU6: 2-2                        [1, 128]                  --\n",
              "│    └─BatchNorm1d: 2-3                  [1, 128]                  256\n",
              "│    └─Linear: 2-4                       [1, 128]                  16,384\n",
              "│    └─ReLU6: 2-5                        [1, 128]                  --\n",
              "│    └─BatchNorm1d: 2-6                  [1, 128]                  256\n",
              "│    └─Linear: 2-7                       [1, 128]                  16,384\n",
              "│    └─ReLU6: 2-8                        [1, 128]                  --\n",
              "│    └─BatchNorm1d: 2-9                  [1, 128]                  256\n",
              "│    └─Linear: 2-10                      [1, 64]                   8,192\n",
              "│    └─ReLU6: 2-11                       [1, 64]                   --\n",
              "│    └─BatchNorm1d: 2-12                 [1, 64]                   128\n",
              "│    └─Linear: 2-13                      [1, 3]                    195\n",
              "==========================================================================================\n",
              "Total params: 77,123\n",
              "Trainable params: 77,123\n",
              "Non-trainable params: 0\n",
              "Total mult-adds (M): 0.08\n",
              "==========================================================================================\n",
              "Input size (MB): 0.00\n",
              "Forward/backward pass size (MB): 0.01\n",
              "Params size (MB): 0.31\n",
              "Estimated Total Size (MB): 0.32\n",
              "=========================================================================================="
            ]
          },
          "metadata": {},
          "execution_count": 417
        }
      ]
    },
    {
      "cell_type": "code",
      "source": [
        "criterion = nn.CrossEntropyLoss(weight=torch.tensor(class_weights))\n",
        "optimizer = optim.Adam(model.parameters(), weight_decay=0.1)"
      ],
      "metadata": {
        "id": "6X4MMLahLbQR"
      },
      "execution_count": 433,
      "outputs": []
    },
    {
      "cell_type": "code",
      "source": [
        "from tqdm import tqdm"
      ],
      "metadata": {
        "id": "_bDe4uhtxdLK"
      },
      "execution_count": 434,
      "outputs": []
    },
    {
      "cell_type": "code",
      "source": [
        "def accuracy(predictions, labels):\n",
        "    classes = torch.argmax(predictions, dim=1)\n",
        "    return torch.mean((classes == labels).float())"
      ],
      "metadata": {
        "id": "VUECpJO5y8yq"
      },
      "execution_count": 435,
      "outputs": []
    },
    {
      "cell_type": "code",
      "source": [
        "train_losses=[]\n",
        "train_accs=[]\n",
        "def train(model,epoch):\n",
        "  print('\\nEpoch : %d'%epoch)\n",
        "  model.train() # веса модели можно обновлять\n",
        "  running_loss= 0.\n",
        "  running_acc = 0.\n",
        "  for data in tqdm(train_loader):\n",
        "      inputs, targets=data[0].to(device),data[1].to(device) # распаковываем пакеты\n",
        "      optimizer.zero_grad() # обнуляем градиенты\n",
        "      outputs=model(inputs) # считаем предсказания - прямой проход модели\n",
        "      loss=criterion(outputs,targets) # ошибка пакета\n",
        "      loss.backward() # обратное распространение ошибки\n",
        "      optimizer.step() # итерация алгоритма оптимизации\n",
        "\n",
        "      running_loss += loss.item()\n",
        "      running_acc += accuracy(outputs,targets)\n",
        "\n",
        "  train_loss=running_loss/len(train_loader)\n",
        "  train_acc=running_acc/len(train_loader)\n",
        "\n",
        "  train_losses.append(train_loss)\n",
        "  train_accs.append(train_acc)\n",
        "  print('Средняя ошибка модели на тренировочной выборке: %.4f'%(train_loss)+'   Средняя точность модели на тренировочной выборке: %.4f'%(train_acc))"
      ],
      "metadata": {
        "id": "0IjpMYrRy_VS"
      },
      "execution_count": 436,
      "outputs": []
    },
    {
      "cell_type": "code",
      "source": [
        "val_losses=[]\n",
        "val_accs=[]\n",
        "def val(model,epoch):\n",
        "    print('\\nEpoch : %d'%epoch)\n",
        "    model.eval() # веса модели заморожены\n",
        "    running_loss = 0.\n",
        "    running_acc = 0.\n",
        "    with torch.no_grad(): # запрещаем переисывать градиенты\n",
        "        for data in tqdm(val_loader):\n",
        "            inputs, targets=data[0].to(device),data[1].to(device)\n",
        "            outputs=model(inputs)\n",
        "            loss=criterion(outputs,targets)\n",
        "\n",
        "            running_loss += loss.item()\n",
        "            running_acc += accuracy(outputs,targets)\n",
        "\n",
        "        val_loss=running_loss/len(val_loader)\n",
        "        val_acc=running_acc/len(val_loader)\n",
        "\n",
        "        val_losses.append(val_loss)\n",
        "        val_accs.append(val_acc)\n",
        "        print('Средняя ошибка модели на валидационной выборке: %.4f'%(val_loss)+'   Средняя точность модели на валидационной выборке: %.4f'%(val_acc))"
      ],
      "metadata": {
        "id": "xuj96E4JZs93"
      },
      "execution_count": 437,
      "outputs": []
    },
    {
      "cell_type": "code",
      "source": [
        "class EarlyStopper:\n",
        "    def __init__(self, patience=1, min_delta=0):\n",
        "        self.patience = patience\n",
        "        self.min_delta = min_delta\n",
        "        self.counter = 0\n",
        "        self.min_validation_loss = float('inf')\n",
        "\n",
        "    def early_stop(self, validation_loss):\n",
        "        if validation_loss < self.min_validation_loss:\n",
        "            self.min_validation_loss = validation_loss\n",
        "            self.counter = 0\n",
        "        elif validation_loss > (self.min_validation_loss + self.min_delta):\n",
        "            self.counter += 1\n",
        "            if self.counter >= self.patience:\n",
        "                return True\n",
        "        return False"
      ],
      "metadata": {
        "id": "mkmYDRkzZ3Qd"
      },
      "execution_count": 438,
      "outputs": []
    },
    {
      "cell_type": "code",
      "source": [
        "max_epochs=100\n",
        "best_acc=0.0\n",
        "early_stopper = EarlyStopper(patience=5, min_delta=0.1)\n",
        "for epoch in range(1,max_epochs+1):\n",
        "    train(model,epoch)\n",
        "    val(model,epoch)\n",
        "    if val_accs[-1] > best_acc:\n",
        "       torch.save(model, 'best-model.pt')\n",
        "       best_acc = val_accs[-1]\n",
        "    if early_stopper.early_stop(val_losses[-1]):\n",
        "      break"
      ],
      "metadata": {
        "colab": {
          "base_uri": "https://localhost:8080/"
        },
        "id": "doQJ9T-UZ7nt",
        "outputId": "e9aebaf7-73b2-4894-963b-7820cfbf85d7",
        "collapsed": true
      },
      "execution_count": 439,
      "outputs": [
        {
          "output_type": "stream",
          "name": "stdout",
          "text": [
            "\n",
            "Epoch : 1\n"
          ]
        },
        {
          "output_type": "stream",
          "name": "stderr",
          "text": [
            "100%|██████████| 83/83 [00:00<00:00, 83.08it/s]\n"
          ]
        },
        {
          "output_type": "stream",
          "name": "stdout",
          "text": [
            "Средняя ошибка модели на тренировочной выборке: 0.7349   Средняя точность модели на тренировочной выборке: 0.6529\n",
            "\n",
            "Epoch : 1\n"
          ]
        },
        {
          "output_type": "stream",
          "name": "stderr",
          "text": [
            "100%|██████████| 18/18 [00:00<00:00, 808.14it/s]\n"
          ]
        },
        {
          "output_type": "stream",
          "name": "stdout",
          "text": [
            "Средняя ошибка модели на валидационной выборке: 0.7810   Средняя точность модели на валидационной выборке: 0.6578\n",
            "\n",
            "Epoch : 2\n"
          ]
        },
        {
          "output_type": "stream",
          "name": "stderr",
          "text": [
            "100%|██████████| 83/83 [00:00<00:00, 186.76it/s]\n"
          ]
        },
        {
          "output_type": "stream",
          "name": "stdout",
          "text": [
            "Средняя ошибка модели на тренировочной выборке: 0.7225   Средняя точность модели на тренировочной выборке: 0.6623\n",
            "\n",
            "Epoch : 2\n"
          ]
        },
        {
          "output_type": "stream",
          "name": "stderr",
          "text": [
            "100%|██████████| 18/18 [00:00<00:00, 852.84it/s]\n"
          ]
        },
        {
          "output_type": "stream",
          "name": "stdout",
          "text": [
            "Средняя ошибка модели на валидационной выборке: 0.8469   Средняя точность модели на валидационной выборке: 0.5229\n",
            "\n",
            "Epoch : 3\n"
          ]
        },
        {
          "output_type": "stream",
          "name": "stderr",
          "text": [
            "100%|██████████| 83/83 [00:00<00:00, 199.00it/s]\n"
          ]
        },
        {
          "output_type": "stream",
          "name": "stdout",
          "text": [
            "Средняя ошибка модели на тренировочной выборке: 0.7203   Средняя точность модели на тренировочной выборке: 0.6679\n",
            "\n",
            "Epoch : 3\n"
          ]
        },
        {
          "output_type": "stream",
          "name": "stderr",
          "text": [
            "100%|██████████| 18/18 [00:00<00:00, 787.10it/s]\n"
          ]
        },
        {
          "output_type": "stream",
          "name": "stdout",
          "text": [
            "Средняя ошибка модели на валидационной выборке: 0.8237   Средняя точность модели на валидационной выборке: 0.5287\n",
            "\n",
            "Epoch : 4\n"
          ]
        },
        {
          "output_type": "stream",
          "name": "stderr",
          "text": [
            "100%|██████████| 83/83 [00:00<00:00, 194.46it/s]\n"
          ]
        },
        {
          "output_type": "stream",
          "name": "stdout",
          "text": [
            "Средняя ошибка модели на тренировочной выборке: 0.6986   Средняя точность модели на тренировочной выборке: 0.6743\n",
            "\n",
            "Epoch : 4\n"
          ]
        },
        {
          "output_type": "stream",
          "name": "stderr",
          "text": [
            "100%|██████████| 18/18 [00:00<00:00, 819.87it/s]\n"
          ]
        },
        {
          "output_type": "stream",
          "name": "stdout",
          "text": [
            "Средняя ошибка модели на валидационной выборке: 0.8026   Средняя точность модели на валидационной выборке: 0.5506\n",
            "\n",
            "Epoch : 5\n"
          ]
        },
        {
          "output_type": "stream",
          "name": "stderr",
          "text": [
            "100%|██████████| 83/83 [00:00<00:00, 206.53it/s]\n"
          ]
        },
        {
          "output_type": "stream",
          "name": "stdout",
          "text": [
            "Средняя ошибка модели на тренировочной выборке: 0.7268   Средняя точность модели на тренировочной выборке: 0.6574\n",
            "\n",
            "Epoch : 5\n"
          ]
        },
        {
          "output_type": "stream",
          "name": "stderr",
          "text": [
            "100%|██████████| 18/18 [00:00<00:00, 863.18it/s]\n"
          ]
        },
        {
          "output_type": "stream",
          "name": "stdout",
          "text": [
            "Средняя ошибка модели на валидационной выборке: 0.8317   Средняя точность модели на валидационной выборке: 0.6965\n",
            "\n",
            "Epoch : 6\n"
          ]
        },
        {
          "output_type": "stream",
          "name": "stderr",
          "text": [
            "100%|██████████| 83/83 [00:00<00:00, 183.81it/s]\n"
          ]
        },
        {
          "output_type": "stream",
          "name": "stdout",
          "text": [
            "Средняя ошибка модели на тренировочной выборке: 0.7122   Средняя точность модели на тренировочной выборке: 0.6721\n",
            "\n",
            "Epoch : 6\n"
          ]
        },
        {
          "output_type": "stream",
          "name": "stderr",
          "text": [
            "100%|██████████| 18/18 [00:00<00:00, 719.04it/s]\n"
          ]
        },
        {
          "output_type": "stream",
          "name": "stdout",
          "text": [
            "Средняя ошибка модели на валидационной выборке: 0.9342   Средняя точность модели на валидационной выборке: 0.3989\n",
            "\n",
            "Epoch : 7\n"
          ]
        },
        {
          "output_type": "stream",
          "name": "stderr",
          "text": [
            "100%|██████████| 83/83 [00:00<00:00, 211.39it/s]\n"
          ]
        },
        {
          "output_type": "stream",
          "name": "stdout",
          "text": [
            "Средняя ошибка модели на тренировочной выборке: 0.7152   Средняя точность модели на тренировочной выборке: 0.6657\n",
            "\n",
            "Epoch : 7\n"
          ]
        },
        {
          "output_type": "stream",
          "name": "stderr",
          "text": [
            "100%|██████████| 18/18 [00:00<00:00, 784.82it/s]\n"
          ]
        },
        {
          "output_type": "stream",
          "name": "stdout",
          "text": [
            "Средняя ошибка модели на валидационной выборке: 0.8624   Средняя точность модели на валидационной выборке: 0.4793\n",
            "\n",
            "Epoch : 8\n"
          ]
        },
        {
          "output_type": "stream",
          "name": "stderr",
          "text": [
            "100%|██████████| 83/83 [00:00<00:00, 187.90it/s]\n"
          ]
        },
        {
          "output_type": "stream",
          "name": "stdout",
          "text": [
            "Средняя ошибка модели на тренировочной выборке: 0.6935   Средняя точность модели на тренировочной выборке: 0.6721\n",
            "\n",
            "Epoch : 8\n"
          ]
        },
        {
          "output_type": "stream",
          "name": "stderr",
          "text": [
            "100%|██████████| 18/18 [00:00<00:00, 546.26it/s]\n"
          ]
        },
        {
          "output_type": "stream",
          "name": "stdout",
          "text": [
            "Средняя ошибка модели на валидационной выборке: 0.7583   Средняя точность модели на валидационной выборке: 0.7527\n",
            "\n",
            "Epoch : 9\n"
          ]
        },
        {
          "output_type": "stream",
          "name": "stderr",
          "text": [
            "100%|██████████| 83/83 [00:00<00:00, 196.07it/s]\n"
          ]
        },
        {
          "output_type": "stream",
          "name": "stdout",
          "text": [
            "Средняя ошибка модели на тренировочной выборке: 0.7346   Средняя точность модели на тренировочной выборке: 0.6600\n",
            "\n",
            "Epoch : 9\n"
          ]
        },
        {
          "output_type": "stream",
          "name": "stderr",
          "text": [
            "100%|██████████| 18/18 [00:00<00:00, 932.29it/s]\n"
          ]
        },
        {
          "output_type": "stream",
          "name": "stdout",
          "text": [
            "Средняя ошибка модели на валидационной выборке: 0.8029   Средняя точность модели на валидационной выборке: 0.5027\n",
            "\n",
            "Epoch : 10\n"
          ]
        },
        {
          "output_type": "stream",
          "name": "stderr",
          "text": [
            "100%|██████████| 83/83 [00:00<00:00, 196.38it/s]\n"
          ]
        },
        {
          "output_type": "stream",
          "name": "stdout",
          "text": [
            "Средняя ошибка модели на тренировочной выборке: 0.7048   Средняя точность модели на тренировочной выборке: 0.6777\n",
            "\n",
            "Epoch : 10\n"
          ]
        },
        {
          "output_type": "stream",
          "name": "stderr",
          "text": [
            "100%|██████████| 18/18 [00:00<00:00, 622.56it/s]\n"
          ]
        },
        {
          "output_type": "stream",
          "name": "stdout",
          "text": [
            "Средняя ошибка модели на валидационной выборке: 0.7880   Средняя точность модели на валидационной выборке: 0.6381\n",
            "\n",
            "Epoch : 11\n"
          ]
        },
        {
          "output_type": "stream",
          "name": "stderr",
          "text": [
            "100%|██████████| 83/83 [00:00<00:00, 197.70it/s]\n"
          ]
        },
        {
          "output_type": "stream",
          "name": "stdout",
          "text": [
            "Средняя ошибка модели на тренировочной выборке: 0.7297   Средняя точность модели на тренировочной выборке: 0.6502\n",
            "\n",
            "Epoch : 11\n"
          ]
        },
        {
          "output_type": "stream",
          "name": "stderr",
          "text": [
            "100%|██████████| 18/18 [00:00<00:00, 859.39it/s]\n"
          ]
        },
        {
          "output_type": "stream",
          "name": "stdout",
          "text": [
            "Средняя ошибка модели на валидационной выборке: 0.7930   Средняя точность модели на валидационной выборке: 0.6225\n",
            "\n",
            "Epoch : 12\n"
          ]
        },
        {
          "output_type": "stream",
          "name": "stderr",
          "text": [
            "100%|██████████| 83/83 [00:00<00:00, 202.21it/s]\n"
          ]
        },
        {
          "output_type": "stream",
          "name": "stdout",
          "text": [
            "Средняя ошибка модели на тренировочной выборке: 0.7090   Средняя точность модели на тренировочной выборке: 0.6856\n",
            "\n",
            "Epoch : 12\n"
          ]
        },
        {
          "output_type": "stream",
          "name": "stderr",
          "text": [
            "100%|██████████| 18/18 [00:00<00:00, 779.72it/s]\n"
          ]
        },
        {
          "output_type": "stream",
          "name": "stdout",
          "text": [
            "Средняя ошибка модели на валидационной выборке: 0.8274   Средняя точность модели на валидационной выборке: 0.5883\n",
            "\n",
            "Epoch : 13\n"
          ]
        },
        {
          "output_type": "stream",
          "name": "stderr",
          "text": [
            "100%|██████████| 83/83 [00:00<00:00, 192.79it/s]\n"
          ]
        },
        {
          "output_type": "stream",
          "name": "stdout",
          "text": [
            "Средняя ошибка модели на тренировочной выборке: 0.7229   Средняя точность модели на тренировочной выборке: 0.6687\n",
            "\n",
            "Epoch : 13\n"
          ]
        },
        {
          "output_type": "stream",
          "name": "stderr",
          "text": [
            "100%|██████████| 18/18 [00:00<00:00, 889.19it/s]\n"
          ]
        },
        {
          "output_type": "stream",
          "name": "stdout",
          "text": [
            "Средняя ошибка модели на валидационной выборке: 0.8149   Средняя точность модели на валидационной выборке: 0.6022\n",
            "\n",
            "Epoch : 14\n"
          ]
        },
        {
          "output_type": "stream",
          "name": "stderr",
          "text": [
            "100%|██████████| 83/83 [00:00<00:00, 207.68it/s]\n"
          ]
        },
        {
          "output_type": "stream",
          "name": "stdout",
          "text": [
            "Средняя ошибка модели на тренировочной выборке: 0.7261   Средняя точность модели на тренировочной выборке: 0.6743\n",
            "\n",
            "Epoch : 14\n"
          ]
        },
        {
          "output_type": "stream",
          "name": "stderr",
          "text": [
            "100%|██████████| 18/18 [00:00<00:00, 554.98it/s]\n"
          ]
        },
        {
          "output_type": "stream",
          "name": "stdout",
          "text": [
            "Средняя ошибка модели на валидационной выборке: 0.8517   Средняя точность модели на валидационной выборке: 0.4509\n",
            "\n",
            "Epoch : 15\n"
          ]
        },
        {
          "output_type": "stream",
          "name": "stderr",
          "text": [
            "100%|██████████| 83/83 [00:00<00:00, 200.01it/s]\n"
          ]
        },
        {
          "output_type": "stream",
          "name": "stdout",
          "text": [
            "Средняя ошибка модели на тренировочной выборке: 0.7218   Средняя точность модели на тренировочной выборке: 0.6875\n",
            "\n",
            "Epoch : 15\n"
          ]
        },
        {
          "output_type": "stream",
          "name": "stderr",
          "text": [
            "100%|██████████| 18/18 [00:00<00:00, 830.88it/s]\n"
          ]
        },
        {
          "output_type": "stream",
          "name": "stdout",
          "text": [
            "Средняя ошибка модели на валидационной выборке: 0.8695   Средняя точность модели на валидационной выборке: 0.4580\n",
            "\n",
            "Epoch : 16\n"
          ]
        },
        {
          "output_type": "stream",
          "name": "stderr",
          "text": [
            "100%|██████████| 83/83 [00:00<00:00, 198.31it/s]\n"
          ]
        },
        {
          "output_type": "stream",
          "name": "stdout",
          "text": [
            "Средняя ошибка модели на тренировочной выборке: 0.7281   Средняя точность модели на тренировочной выборке: 0.6830\n",
            "\n",
            "Epoch : 16\n"
          ]
        },
        {
          "output_type": "stream",
          "name": "stderr",
          "text": [
            "100%|██████████| 18/18 [00:00<00:00, 807.11it/s]\n"
          ]
        },
        {
          "output_type": "stream",
          "name": "stdout",
          "text": [
            "Средняя ошибка модели на валидационной выборке: 0.9035   Средняя точность модели на валидационной выборке: 0.6103\n",
            "\n",
            "Epoch : 17\n"
          ]
        },
        {
          "output_type": "stream",
          "name": "stderr",
          "text": [
            "100%|██████████| 83/83 [00:00<00:00, 166.28it/s]\n"
          ]
        },
        {
          "output_type": "stream",
          "name": "stdout",
          "text": [
            "Средняя ошибка модели на тренировочной выборке: 0.7449   Средняя точность модели на тренировочной выборке: 0.6747\n",
            "\n",
            "Epoch : 17\n"
          ]
        },
        {
          "output_type": "stream",
          "name": "stderr",
          "text": [
            "100%|██████████| 18/18 [00:00<00:00, 755.59it/s]\n"
          ]
        },
        {
          "output_type": "stream",
          "name": "stdout",
          "text": [
            "Средняя ошибка модели на валидационной выборке: 0.8594   Средняя точность модели на валидационной выборке: 0.4940\n",
            "\n",
            "Epoch : 18\n"
          ]
        },
        {
          "output_type": "stream",
          "name": "stderr",
          "text": [
            "100%|██████████| 83/83 [00:00<00:00, 171.32it/s]\n"
          ]
        },
        {
          "output_type": "stream",
          "name": "stdout",
          "text": [
            "Средняя ошибка модели на тренировочной выборке: 0.7591   Средняя точность модели на тренировочной выборке: 0.6664\n",
            "\n",
            "Epoch : 18\n"
          ]
        },
        {
          "output_type": "stream",
          "name": "stderr",
          "text": [
            "100%|██████████| 18/18 [00:00<00:00, 683.64it/s]\n"
          ]
        },
        {
          "output_type": "stream",
          "name": "stdout",
          "text": [
            "Средняя ошибка модели на валидационной выборке: 0.8405   Средняя точность модели на валидационной выборке: 0.6196\n",
            "\n",
            "Epoch : 19\n"
          ]
        },
        {
          "output_type": "stream",
          "name": "stderr",
          "text": [
            "100%|██████████| 83/83 [00:00<00:00, 147.62it/s]\n"
          ]
        },
        {
          "output_type": "stream",
          "name": "stdout",
          "text": [
            "Средняя ошибка модели на тренировочной выборке: 0.7579   Средняя точность модели на тренировочной выборке: 0.6593\n",
            "\n",
            "Epoch : 19\n"
          ]
        },
        {
          "output_type": "stream",
          "name": "stderr",
          "text": [
            "100%|██████████| 18/18 [00:00<00:00, 734.20it/s]\n"
          ]
        },
        {
          "output_type": "stream",
          "name": "stdout",
          "text": [
            "Средняя ошибка модели на валидационной выборке: 0.8837   Средняя точность модели на валидационной выборке: 0.4638\n",
            "\n",
            "Epoch : 20\n"
          ]
        },
        {
          "output_type": "stream",
          "name": "stderr",
          "text": [
            "100%|██████████| 83/83 [00:00<00:00, 161.82it/s]\n"
          ]
        },
        {
          "output_type": "stream",
          "name": "stdout",
          "text": [
            "Средняя ошибка модели на тренировочной выборке: 0.7341   Средняя точность модели на тренировочной выборке: 0.6819\n",
            "\n",
            "Epoch : 20\n"
          ]
        },
        {
          "output_type": "stream",
          "name": "stderr",
          "text": [
            "100%|██████████| 18/18 [00:00<00:00, 602.10it/s]\n"
          ]
        },
        {
          "output_type": "stream",
          "name": "stdout",
          "text": [
            "Средняя ошибка модели на валидационной выборке: 0.8572   Средняя точность модели на валидационной выборке: 0.5494\n",
            "\n",
            "Epoch : 21\n"
          ]
        },
        {
          "output_type": "stream",
          "name": "stderr",
          "text": [
            "100%|██████████| 83/83 [00:00<00:00, 165.86it/s]\n"
          ]
        },
        {
          "output_type": "stream",
          "name": "stdout",
          "text": [
            "Средняя ошибка модели на тренировочной выборке: 0.7243   Средняя точность модели на тренировочной выборке: 0.6815\n",
            "\n",
            "Epoch : 21\n"
          ]
        },
        {
          "output_type": "stream",
          "name": "stderr",
          "text": [
            "100%|██████████| 18/18 [00:00<00:00, 778.75it/s]\n"
          ]
        },
        {
          "output_type": "stream",
          "name": "stdout",
          "text": [
            "Средняя ошибка модели на валидационной выборке: 0.8576   Средняя точность модели на валидационной выборке: 0.4771\n",
            "\n",
            "Epoch : 22\n"
          ]
        },
        {
          "output_type": "stream",
          "name": "stderr",
          "text": [
            "100%|██████████| 83/83 [00:00<00:00, 117.32it/s]\n"
          ]
        },
        {
          "output_type": "stream",
          "name": "stdout",
          "text": [
            "Средняя ошибка модели на тренировочной выборке: 0.7508   Средняя точность модели на тренировочной выборке: 0.6743\n",
            "\n",
            "Epoch : 22\n"
          ]
        },
        {
          "output_type": "stream",
          "name": "stderr",
          "text": [
            "100%|██████████| 18/18 [00:00<00:00, 599.02it/s]"
          ]
        },
        {
          "output_type": "stream",
          "name": "stdout",
          "text": [
            "Средняя ошибка модели на валидационной выборке: 0.8703   Средняя точность модели на валидационной выборке: 0.4817\n"
          ]
        },
        {
          "output_type": "stream",
          "name": "stderr",
          "text": [
            "\n"
          ]
        }
      ]
    },
    {
      "cell_type": "code",
      "source": [
        "best_acc"
      ],
      "metadata": {
        "colab": {
          "base_uri": "https://localhost:8080/"
        },
        "id": "597lIke0aE-r",
        "outputId": "1eb37c69-f0af-4dc4-fde8-8812a73a038b"
      },
      "execution_count": 440,
      "outputs": [
        {
          "output_type": "execute_result",
          "data": {
            "text/plain": [
              "tensor(0.7527)"
            ]
          },
          "metadata": {},
          "execution_count": 440
        }
      ]
    },
    {
      "cell_type": "code",
      "source": [
        "plt.rcParams[\"figure.figsize\"] = (20,5)\n",
        "plt.plot(train_losses,'-o')\n",
        "plt.plot(val_losses,'-o')\n",
        "plt.xlabel('эпоха')\n",
        "plt.ylabel('ошибка')\n",
        "plt.legend(['Обучение','Валидация'])\n",
        "plt.title('Ошибка обучения vs Ошибка валидации')\n",
        "plt.show()"
      ],
      "metadata": {
        "id": "zdW2Rw0plJ9q",
        "colab": {
          "base_uri": "https://localhost:8080/",
          "height": 338
        },
        "outputId": "f54bf312-78bf-4c9d-d1e9-f80d89208d91"
      },
      "execution_count": 441,
      "outputs": [
        {
          "output_type": "display_data",
          "data": {
            "text/plain": [
              "<Figure size 2000x500 with 1 Axes>"
            ],
            "image/png": "[encoded data removed]"
          },
          "metadata": {}
        }
      ]
    },
    {
      "cell_type": "code",
      "source": [
        "plt.rcParams[\"figure.figsize\"] = (20,5)\n",
        "plt.plot(train_accs,'-o')\n",
        "plt.plot(val_accs,'-o')\n",
        "plt.xlabel('эпоха')\n",
        "plt.ylabel('точность')\n",
        "plt.legend(['Обучение','Валидация'])\n",
        "plt.title('Точность на обучении vs Точночть на валидации')\n",
        "plt.show()"
      ],
      "metadata": {
        "colab": {
          "base_uri": "https://localhost:8080/",
          "height": 338
        },
        "id": "quYx0BHYsxgG",
        "outputId": "19ec58bd-0ba2-4fd6-ecd0-e846453aa5db"
      },
      "execution_count": 442,
      "outputs": [
        {
          "output_type": "display_data",
          "data": {
            "text/plain": [
              "<Figure size 2000x500 with 1 Axes>"
            ],
            "image/png": "[encoded data removed]"
          },
          "metadata": {}
        }
      ]
    },
    {
      "cell_type": "code",
      "source": [
        "model = torch.load('best-model.pt');\n",
        "model.eval();"
      ],
      "metadata": {
        "id": "HqR7dR9c1Gzn",
        "colab": {
          "base_uri": "https://localhost:8080/"
        },
        "outputId": "bb79403d-801c-49bd-f3a3-46d07fb28bd5"
      },
      "execution_count": 443,
      "outputs": [
        {
          "output_type": "stream",
          "name": "stderr",
          "text": [
            "<ipython-input-443-fd4f3f516958>:1: FutureWarning: You are using `torch.load` with `weights_only=False` (the current default value), which uses the default pickle module implicitly. It is possible to construct malicious pickle data which will execute arbitrary code during unpickling (See https://github.com/pytorch/pytorch/blob/main/SECURITY.md#untrusted-models for more details). In a future release, the default value for `weights_only` will be flipped to `True`. This limits the functions that could be executed during unpickling. Arbitrary objects will no longer be allowed to be loaded via this mode unless they are explicitly allowlisted by the user via `torch.serialization.add_safe_globals`. We recommend you start setting `weights_only=True` for any use case where you don't have full control of the loaded file. Please open an issue on GitHub for any issues related to this experimental feature.\n",
            "  model = torch.load('best-model.pt');\n"
          ]
        }
      ]
    },
    {
      "cell_type": "code",
      "source": [
        "preds=[]\n",
        "trgts=[]\n",
        "with torch.no_grad():\n",
        "  for data in tqdm(test_loader):\n",
        "    inputs, targets=data[0].to(device),data[1].to(device)\n",
        "    outputs=model(inputs)\n",
        "    targets=targets.to('cpu').numpy()\n",
        "    pred = outputs.max(1, keepdim=True)[1]\n",
        "    pred = pred.to('cpu').numpy()\n",
        "    trgts.append(targets)\n",
        "    preds.append(pred)\n"
      ],
      "metadata": {
        "colab": {
          "base_uri": "https://localhost:8080/"
        },
        "id": "lfSeiH5oQZo0",
        "outputId": "c4a67278-3bd7-453e-e7d6-5b54c4e04b4d"
      },
      "execution_count": 444,
      "outputs": [
        {
          "output_type": "stream",
          "name": "stderr",
          "text": [
            "100%|██████████| 18/18 [00:00<00:00, 431.44it/s]\n"
          ]
        }
      ]
    },
    {
      "cell_type": "code",
      "source": [
        "targets=[x for sub in trgts for x in sub]\n",
        "predictions=[x[0] for sub in preds for x in sub]\n",
        "targets=np.array(targets)\n",
        "predictions=np.array(predictions)"
      ],
      "metadata": {
        "id": "joEpDFH9QZyY"
      },
      "execution_count": 445,
      "outputs": []
    },
    {
      "cell_type": "code",
      "source": [
        "from sklearn.metrics import confusion_matrix, ConfusionMatrixDisplay, f1_score\n",
        "cm = confusion_matrix(targets, predictions)\n",
        "ConfusionMatrixDisplay(cm).plot()"
      ],
      "metadata": {
        "colab": {
          "base_uri": "https://localhost:8080/",
          "height": 482
        },
        "id": "LSgIXipVQZ70",
        "outputId": "aee906d9-dcee-48c8-f9dc-44a2d4b241da"
      },
      "execution_count": 446,
      "outputs": [
        {
          "output_type": "execute_result",
          "data": {
            "text/plain": [
              "<sklearn.metrics._plot.confusion_matrix.ConfusionMatrixDisplay at 0x7d13e1bf4400>"
            ]
          },
          "metadata": {},
          "execution_count": 446
        },
        {
          "output_type": "display_data",
          "data": {
            "text/plain": [
              "<Figure size 2000x500 with 2 Axes>"
            ],
            "image/png": "[encoded data removed]"
          },
          "metadata": {}
        }
      ]
    },
    {
      "cell_type": "code",
      "source": [
        "f1_score(targets, predictions,average='micro')"
      ],
      "metadata": {
        "colab": {
          "base_uri": "https://localhost:8080/"
        },
        "id": "wrMfc-9ERVZt",
        "outputId": "3cc31550-06e7-4d46-9c89-5148dd084bf7"
      },
      "execution_count": 447,
      "outputs": [
        {
          "output_type": "execute_result",
          "data": {
            "text/plain": [
              "0.7304964539007093"
            ]
          },
          "metadata": {},
          "execution_count": 447
        }
      ]
    },
    {
      "cell_type": "code",
      "source": [],
      "metadata": {
        "id": "oMK56i7mRVdG"
      },
      "execution_count": 447,
      "outputs": []
    },
    {
      "cell_type": "markdown",
      "source": [
        "Модель обучилась не идеально, однако результат не такой плохой. Интересно то - что веса лучше подбирать вручную, потому что, когда веса автоматически подбираются по объему экземляров классов, модель совершенно не видит среднюю зп. Все метки либо 0 либо 2. А при отсутсвии весов модель многовато высоких зарплат причисляет к низким. Однако мы и метки расставили условно, возможно, если более точно определить границы, то и классификация будет точнее. Но даже при этом результат удовлетворительный и точность (f1) классификации больше 70%"
      ],
      "metadata": {
        "id": "5VEooDV5MBRu"
      }
    },
    {
      "cell_type": "code",
      "source": [],
      "metadata": {
        "id": "qbi5l-1SMdvb"
      },
      "execution_count": 447,
      "outputs": []
    }
  ]
}